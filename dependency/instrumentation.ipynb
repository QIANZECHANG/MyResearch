{
 "cells": [
  {
   "cell_type": "code",
   "execution_count": 1,
   "metadata": {},
   "outputs": [],
   "source": [
    "from dependency import *\n",
    "from my_tools import *"
   ]
  },
  {
   "cell_type": "code",
   "execution_count": 4,
   "metadata": {},
   "outputs": [],
   "source": [
    "dep=get_dependency(\"fuzzing_result\")"
   ]
  },
  {
   "cell_type": "code",
   "execution_count": 21,
   "metadata": {},
   "outputs": [],
   "source": [
    "def read_file(filename):\n",
    "    f=open(filename,\"r\")\n",
    "    filelist=f.readlines()\n",
    "    f.close()\n",
    "    return filelist"
   ]
  },
  {
   "cell_type": "code",
   "execution_count": 22,
   "metadata": {},
   "outputs": [],
   "source": [
    "def write_file(filename,code):\n",
    "    f=open(filename,\"w\")\n",
    "    f.write(\"\".join(code))\n",
    "    f.close()"
   ]
  },
  {
   "cell_type": "code",
   "execution_count": null,
   "metadata": {},
   "outputs": [],
   "source": [
    "write_file(\"instrument\",read_file(\"test.c\"))"
   ]
  },
  {
   "cell_type": "code",
   "execution_count": 37,
   "metadata": {},
   "outputs": [],
   "source": [
    "def instrument(dep):\n",
    "    instrument_dict={}\n",
    "    for e in dep:\n",
    "        for func in e.values():\n",
    "            for var in func[\"dep\"]:\n",
    "                filename=var[\"coord\"].split(\":\")[0]\n",
    "                if filename not in instrument_dict:\n",
    "                    instrument_dict[filename]=[]\n",
    "                if var not in instrument_dict[filename]:\n",
    "                    instrument_dict[filename].append(var)\n",
    "    \n",
    "    for filename in instrument_dict.keys():\n",
    "        filelist=read_file(filename)\n",
    "        for var in instrument_dict[filename]:\n",
    "            varname=var[\"name\"]\n",
    "            state=var[\"state\"]\n",
    "            vartype=var[\"type\"]\n",
    "            line=int(var[\"coord\"].split(\":\")[1])\n",
    "            if \"int\" not in vartype:\n",
    "                continue\n",
    "            deref=\"\"\n",
    "            for l in vartype:\n",
    "                if l==\"*\":\n",
    "                    deref+=\"*\"\n",
    "            printf=f\"printf(\\\"instrument: (line : {line}) {deref+varname} : %d\\\\n\\\",{deref+varname});\\n\"\n",
    "            if state==\"var\":\n",
    "                filelist[line-1]=filelist[line-1][:-1]+printf\n",
    "            elif state==\"input\":\n",
    "                tmp=line-1\n",
    "                while filelist[tmp][-2]!=\"{\":\n",
    "                    tmp+=1\n",
    "                filelist[tmp]=filelist[tmp][:-1]+printf\n",
    "                \n",
    "        write_file(\"instrumented_\"+filename,filelist)\n",
    "        "
   ]
  },
  {
   "cell_type": "code",
   "execution_count": null,
   "metadata": {},
   "outputs": [],
   "source": []
  },
  {
   "cell_type": "code",
   "execution_count": 38,
   "metadata": {},
   "outputs": [],
   "source": [
    "instrument(dep)"
   ]
  },
  {
   "cell_type": "code",
   "execution_count": 17,
   "metadata": {},
   "outputs": [],
   "source": [
    "deref=\"*\"\n",
    "varname=\"a\"\n",
    "printf=f\"printf(\\\"instrument: {deref+varname} : %d\\\\n\\\",{deref+varname})\""
   ]
  },
  {
   "cell_type": "code",
   "execution_count": 18,
   "metadata": {},
   "outputs": [
    {
     "name": "stdout",
     "output_type": "stream",
     "text": [
      "printf(\"instrument: *a: %d\\n\",*a)\n"
     ]
    }
   ],
   "source": [
    "print(printf)"
   ]
  },
  {
   "cell_type": "code",
   "execution_count": null,
   "metadata": {},
   "outputs": [],
   "source": []
  }
 ],
 "metadata": {
  "kernelspec": {
   "display_name": "Python 3",
   "language": "python",
   "name": "python3"
  },
  "language_info": {
   "codemirror_mode": {
    "name": "ipython",
    "version": 3
   },
   "file_extension": ".py",
   "mimetype": "text/x-python",
   "name": "python",
   "nbconvert_exporter": "python",
   "pygments_lexer": "ipython3",
   "version": "3.7.3"
  }
 },
 "nbformat": 4,
 "nbformat_minor": 4
}

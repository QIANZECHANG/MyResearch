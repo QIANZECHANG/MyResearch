{
 "cells": [
  {
   "cell_type": "code",
   "execution_count": 1,
   "metadata": {},
   "outputs": [],
   "source": [
    "from convert_ast import from_dict,to_dict,file_to_dict\n",
    "from pycparser import parse_file, c_parser, c_generator, c_ast\n",
    "from my_tools import go_to_func,get_type,get_fuzzer_result,get_name"
   ]
  },
  {
   "cell_type": "code",
   "execution_count": 2,
   "metadata": {},
   "outputs": [],
   "source": [
    "file_dict = file_to_dict(\"src.c\")"
   ]
  },
  {
   "cell_type": "code",
   "execution_count": 3,
   "metadata": {},
   "outputs": [],
   "source": [
    "#line number to dict \n",
    "def localization(ast_dict,line):\n",
    "    s=ast_dict\n",
    "    if type(s)==dict:\n",
    "        coord=int(s['coord'].split(\":\")[1])\n",
    "        if coord==line:\n",
    "            return s\n",
    "        for v in s.values():\n",
    "            if not v:\n",
    "                continue\n",
    "            elif type(v)==dict:\n",
    "                if int(v['coord'].split(\":\")[1])>line:\n",
    "                    return localization(tmp,line)\n",
    "            elif type(v)==list:\n",
    "                if int(v[0]['coord'].split(\":\")[1])>line:\n",
    "                    return localization(tmp,line)\n",
    "            else:\n",
    "                continue\n",
    "            tmp=v\n",
    "        return localization(tmp,line)\n",
    "\n",
    "    elif type(s)==list:\n",
    "        if len(s)==1:\n",
    "            return localization(s[0],line)\n",
    "        for i in range(1,len(s)):\n",
    "            coord=int(s[i]['coord'].split(\":\")[1])\n",
    "            if coord>line:\n",
    "                return localization(s[i-1],line)\n",
    "        return localization(s[-1],line)"
   ]
  },
  {
   "cell_type": "code",
   "execution_count": 5,
   "metadata": {},
   "outputs": [],
   "source": [
    "def get_type(s,decl_type):\n",
    "    while True:\n",
    "        if s[\"_nodetype\"]==\"PtrDecl\":\n",
    "            decl_type+=\"*\"\n",
    "            s=s[\"type\"]\n",
    "        elif s[\"_nodetype\"]==\"TypeDecl\":\n",
    "            s=s[\"type\"]\n",
    "        elif s[\"_nodetype\"]==\"IdentifierType\":\n",
    "            decl_type=' '.join(s[\"names\"])+decl_type\n",
    "            break\n",
    "        elif s[\"_nodetype\"]==\"Struct\":\n",
    "            decl_type=\"struct \"+s[\"name\"]+decl_type\n",
    "            break\n",
    "    return decl_type"
   ]
  },
  {
   "cell_type": "code",
   "execution_count": 6,
   "metadata": {},
   "outputs": [],
   "source": [
    "def decl_type_in_func(file_dict,line,name):\n",
    "    s=file_dict['ext']\n",
    "    if len(s)==1:\n",
    "        s=s[0]\n",
    "    else:\n",
    "        for i in range(1,len(s)):\n",
    "            coord=int(s[i]['coord'].split(\":\")[1])\n",
    "            if coord>line:\n",
    "                s=s[i-1]\n",
    "                break\n",
    "    if type(s)==list:\n",
    "        s=s[-1]\n",
    "    \n",
    "    s=s['body']['block_items']\n",
    "    for item in s:\n",
    "        if item['_nodetype']=='Decl':\n",
    "            if item['name']==name:\n",
    "                return get_type(item['type'],'')\n",
    "                "
   ]
  },
  {
   "cell_type": "code",
   "execution_count": 7,
   "metadata": {},
   "outputs": [],
   "source": [
    "#get object name and type\n",
    "def get_heap_object(file_dict,line):\n",
    "    s=localization(file_dict['ext'],line)\n",
    "    decl_type=''\n",
    "    if(s['_nodetype']=='Decl'):\n",
    "        name=s['name']\n",
    "        s=s['type']\n",
    "        decl_type=get_type(s,decl_type)\n",
    "        \n",
    "    elif(s['_nodetype']=='Assignment'):\n",
    "        s_name=s['lvalue']\n",
    "        name=get_name(s_name)\n",
    "                \n",
    "        s_type=s['rvalue']\n",
    "        if s_type['_nodetype']=='FuncCall':\n",
    "            try:\n",
    "                s_type=s_type['args']['exprs'][0]['expr']['type']\n",
    "                decl_type=get_type(s_type,decl_type)\n",
    "                decl_type+=\"*\"\n",
    "            except:\n",
    "                decl_type=decl_type_in_func(file_dict,line,name)\n",
    "            \n",
    "        elif s_type['_nodetype']=='Cast':\n",
    "            s_type=s_type['to_type']['type']\n",
    "            decl_type=get_type(s_type,decl_type)\n",
    "            \n",
    "    else:\n",
    "        print(\"(heap_object_type/get_heap_object) Can not get heap object, nodetype is : \"+s['_nodetype'])\n",
    "\n",
    "    return name,decl_type"
   ]
  },
  {
   "cell_type": "code",
   "execution_count": 8,
   "metadata": {},
   "outputs": [
    {
     "data": {
      "text/plain": [
       "('dict->buckets', 'dictbucket**')"
      ]
     },
     "execution_count": 8,
     "metadata": {},
     "output_type": "execute_result"
    }
   ],
   "source": [
    "get_heap_object(file_dict,23)"
   ]
  },
  {
   "cell_type": "code",
   "execution_count": 9,
   "metadata": {},
   "outputs": [
    {
     "data": {
      "text/plain": [
       "('lookups', 'p11_dict*')"
      ]
     },
     "execution_count": 9,
     "metadata": {},
     "output_type": "execute_result"
    }
   ],
   "source": [
    "get_heap_object(file_dict,40)"
   ]
  },
  {
   "cell_type": "code",
   "execution_count": null,
   "metadata": {},
   "outputs": [],
   "source": []
  }
 ],
 "metadata": {
  "kernelspec": {
   "display_name": "Python 3",
   "language": "python",
   "name": "python3"
  },
  "language_info": {
   "codemirror_mode": {
    "name": "ipython",
    "version": 3
   },
   "file_extension": ".py",
   "mimetype": "text/x-python",
   "name": "python",
   "nbconvert_exporter": "python",
   "pygments_lexer": "ipython3",
   "version": "3.7.3"
  }
 },
 "nbformat": 4,
 "nbformat_minor": 4
}

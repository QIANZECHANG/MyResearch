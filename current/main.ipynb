{
 "cells": [
  {
   "cell_type": "code",
   "execution_count": 38,
   "metadata": {},
   "outputs": [],
   "source": [
    "import os\n",
    "from my_tools import *\n",
    "from dependency import *\n",
    "from instrumentation import *\n",
    "from insert_patch import *\n",
    "from program_synthesis import *\n",
    "from get_heap_object import *\n",
    "import argparse\n",
    "import json\n",
    "import time"
   ]
  },
  {
   "cell_type": "code",
   "execution_count": null,
   "metadata": {},
   "outputs": [],
   "source": [
    "parser = argparse.ArgumentParser(description='file name')\n",
    "parser.add_argument('f',type=str, help='file name')\n",
    "args = parser.parse_args()\n",
    "filename=args.f"
   ]
  },
  {
   "cell_type": "code",
   "execution_count": 21,
   "metadata": {},
   "outputs": [],
   "source": [
    "# input the name of buggy program\n",
    "def main(filename):\n",
    "    t0=time.time()\n",
    "    # delete comment\n",
    "    os.system(f\"gcc -fpreprocessed -dD -E {filename} | sed \\\"1d\\\" > _{filename}\")\n",
    "    # fuzzing\n",
    "    print(\"fuzzing\")\n",
    "    os.system(f\"clang-12 -g -fsanitize=address,fuzzer _{filename}\")\n",
    "    err_num=0\n",
    "    for _ in range(10):\n",
    "        os.system(r\"./a.out -max_total_time=5 -max_len=2 2>fuzzer_result\")\n",
    "        err_path=get_fuzzer_result(\"fuzzer_result\")\n",
    "        if len(err_path)>err_num:\n",
    "            err_num=len(err_path)\n",
    "            os.system(\"cat fuzzer_result > tmp\")\n",
    "    os.system(\"cat tmp > fuzzer_result\")\n",
    "    os.system(\"rm -f tmp\")\n",
    "    print(\"fuzzing done\")\n",
    "    # delete include (pycparser can't analyze)\n",
    "    os.system(f\"cat _{filename} | sed \\\"/#/c\\ \\\" > dep_{filename} \")\n",
    "    \n",
    "    # get dependency variable and the error\n",
    "    dep,error_feature = get_dependency(\"fuzzer_result\")\n",
    "    _error_feature=error_feature.copy()\n",
    "    with open('dependency.json', 'w') as f:\n",
    "        json.dump(dep, f, indent=4)\n",
    "    print(\"dependency done\")\n",
    "    # get file list (line)\n",
    "    filelist = read_file(filename)\n",
    "    # source instrumentation \n",
    "    inst_filename = instrument(dep)\n",
    "    \n",
    "    # initialization of instrumentation result\n",
    "    syn_inf = get_synthesis_inf(dep)\n",
    "    os.system(f\"clang-12 -g -fsanitize=address,fuzzer {inst_filename}\")\n",
    "    # run 10 times to get more dynamic value\n",
    "    for i in range(10):\n",
    "        os.system(r\"./a.out -max_total_time=5 -max_len=2 2>inst_result\")\n",
    "        add_dynamic_value(syn_inf,\"inst_result\",_error_feature,filelist)\n",
    "    with open('syn_inf.json', 'w') as f:\n",
    "        json.dump(syn_inf, f, indent=4) \n",
    "        \n",
    "    print(\"collect dynamic value done\")  \n",
    "    print(f\"current time: {time.time()-t0}\")    \n",
    "    print(f\"have {len(error_feature)} error(s)\")\n",
    "    \n",
    "    queue=[i for i in range(len(error_feature))]\n",
    "    to_fix_list=[]\n",
    "    # try to fix each error\n",
    "    # for i in range(len(error_feature)):\n",
    "    flag=0\n",
    "    while queue and flag!=len(queue):\n",
    "        i=queue.pop(0)\n",
    "        err_dep = dep[i]\n",
    "        err_fea = _error_feature[i]\n",
    "        t1=time.time()\n",
    "        t=0\n",
    "        not_fixed=1 # flag\n",
    "        while t<60 and not_fixed: # one error 1 min\n",
    "            err_inf = syn_inf[i]\n",
    "            # for each error, generate the patch of each function in the error patch \n",
    "            patch_cand = synthesis().synthesis(err_inf)\n",
    "            # insert temporary variable in each function and keep it filelist\n",
    "            patch = insert_tmp_var(filelist,patch_cand)\n",
    "            # try to fix this error\n",
    "            cur_filelist,not_fixed=fix(patch,err_dep,err_fea,error_feature,i,dep)\n",
    "            # if failed, instrument again and get new dynamic variable\n",
    "            if not_fixed:\n",
    "                print(\"collect error test cases\")\n",
    "                add_dynamic_value(syn_inf,\"cur_fuzzer_result\",_error_feature,filelist)\n",
    "                '''\n",
    "                os.system(f\"clang-12 -g -fsanitize=address,fuzzer {inst_filename}\")\n",
    "                for _ in range(10):\n",
    "                    os.system(r\"./a.out -max_total_time=5 -max_len=2 2>inst_result\")\n",
    "                    add_dynamic_value(syn_inf,\"inst_result\",_error_feature)\n",
    "                '''\n",
    "            t=time.time()-t1\n",
    "        # if this error is fixed\n",
    "        if not not_fixed:\n",
    "            print(f\"fixed error {i}, error feature: {err_fea}\")\n",
    "            # keep current patch\n",
    "            filelist=cur_filelist.copy()\n",
    "            write_file(\"cur_\"+filename,cur_filelist)\n",
    "            error_feature.remove(_error_feature[i])\n",
    "            flag=0\n",
    "            if queue:\n",
    "                # clean dynamic value and collect new values\n",
    "                clean_inf(syn_inf)\n",
    "                new_instrument(cur_filelist.copy(),dep,inst_filename)\n",
    "                print(\"collect new test cases\")\n",
    "                os.system(f\"clang-12 -g -fsanitize=address,fuzzer {inst_filename}\")\n",
    "                for _ in range(10):\n",
    "                    os.system(r\"./a.out -max_total_time=5 -max_len=2 2>inst_result\")\n",
    "                    add_dynamic_value(syn_inf,\"inst_result\",_error_feature,filelist)\n",
    "        else:\n",
    "            # if time out, print error number\n",
    "            print(f\"failed to fix error {i}\")\n",
    "            queue.append(i)\n",
    "            flag+=1\n",
    "\n",
    "                \n",
    "        os.system(r\"rm -f leak*\")\n",
    "        os.system(r\"rm -f crash*\")\n",
    "    # write file at last\n",
    "    os.system(f\"rm -f *_{filename}\")\n",
    "    os.system(f\"rm -f *_result\")\n",
    "    os.system(f\"rm a.out\")\n",
    "    os.system(f\"rm -f check_and_instrument.c\")\n",
    "    write_file(\"result_\"+filename,filelist)\n",
    "    print(f\"total time: {time.time()-t0}\")"
   ]
  },
  {
   "cell_type": "code",
   "execution_count": 44,
   "metadata": {},
   "outputs": [],
   "source": [
    "def fix(patch,err_dep,err_fea,error_feature,i,dep):\n",
    "    \"\"\" \n",
    "    k: funcname\n",
    "    v: filelist, patch, return location\n",
    "    \"\"\"\n",
    "    # try the patch in each function\n",
    "    for k,v in patch.items():\n",
    "        if not v:\n",
    "            continue\n",
    "        cur_filelist=v[\"filelist\"].copy()\n",
    "        # get object type and name\n",
    "        o,otype,line=get_error_object(err_dep,k)\n",
    "        # if failed to get object information, try the patch in next function \n",
    "        if o == 0:\n",
    "            continue\n",
    "        # insert temporary variable to keap the object\n",
    "        cur_filelist,o=insert_heap_object(cur_filelist.copy(),o,otype,line,i)\n",
    "        # synthesis the patch: if(c)free(o);\n",
    "        free=cur_patch(v[\"patch\"],o)\n",
    "        print(f\"current patch is {free} in function {k}\")\n",
    "        # insert the patch before each return, to find the correct location\n",
    "        for ret in v[\"ret\"]:\n",
    "            print(f\"insert at {ret}\")\n",
    "            patch_line=int(ret[\"coord\"].split(\":\")[1])\n",
    "            # insert patch\n",
    "            cand_filelist=insert_patch(cur_filelist.copy(),patch_line,free)\n",
    "            # test patched program\n",
    "            new_instrument(cand_filelist.copy(),dep,\"check_and_instrument.c\")\n",
    "            #write_file(\"patched_\"+filename,cand_filelist)\n",
    "            os.system(f\"clang-12 -g -fsanitize=address,fuzzer check_and_instrument.c\")\n",
    "            err_num=0\n",
    "            f=0\n",
    "            for _ in range(20):\n",
    "                os.system(r\"./a.out -max_total_time=5 -max_len=2 2>cur_fuzzer_result\")\n",
    "                err_path=get_fuzzer_result(\"cur_fuzzer_result\")\n",
    "                if len(err_path)>err_num:\n",
    "                    f=1\n",
    "                    err_num=len(err_path)\n",
    "                    os.system(\"cat cur_fuzzer_result > tmp\")\n",
    "            if f:\n",
    "                os.system(\"cat tmp > cur_fuzzer_result\")\n",
    "                os.system(\"rm -f tmp\")\n",
    "            # collect current error\n",
    "            cur_err=get_error_feature(get_fuzzer_result(\"cur_fuzzer_result\"))\n",
    "            # same with the original error\n",
    "            if error_feature == cur_err:\n",
    "                print(\"repair a part of error\")\n",
    "                # repair a part of error, keep the current patch\n",
    "                cur_filelist=cand_filelist.copy()\n",
    "                continue\n",
    "            # new error happened\n",
    "            flag=0\n",
    "            for err in cur_err:\n",
    "                if err==\"DF\" or err==\"UAF\":\n",
    "                    print(\"wrong patch/location\")\n",
    "                    flag=1\n",
    "                    # wrong patch\n",
    "                    break\n",
    "                if err not in error_feature:\n",
    "                    for e in error_feature:\n",
    "                        if e[-1]==err[-1]:\n",
    "                            print(\"wrong patch/location\")\n",
    "                            flag=1\n",
    "                            # wrong patch\n",
    "                            break\n",
    "            if flag:\n",
    "                continue\n",
    "            # not in current error\n",
    "            if err_fea not in cur_err:\n",
    "                print(\"correct patch\")\n",
    "                return cand_filelist,0\n",
    "    return None,1"
   ]
  },
  {
   "cell_type": "code",
   "execution_count": null,
   "metadata": {},
   "outputs": [],
   "source": [
    "file=open(\"inst_result\",'r')\n",
    "inf=file.read()\n",
    "for i in inf.split(\"\\n\"):\n",
    "    if \"instrument:\" in i :\n",
    "        print(i)"
   ]
  },
  {
   "cell_type": "code",
   "execution_count": null,
   "metadata": {},
   "outputs": [],
   "source": [
    "{'func': {'patch': 'tmp_a==5',\n",
    "   'ret': [{'coord': 'dep__src.c:12:9'}, {'coord': 'dep__src.c:12:16'}]}}"
   ]
  },
  {
   "cell_type": "code",
   "execution_count": 4,
   "metadata": {},
   "outputs": [],
   "source": [
    "syn_inf=get_synthesis_inf(dep,\"inst_result\")"
   ]
  },
  {
   "cell_type": "code",
   "execution_count": 48,
   "metadata": {},
   "outputs": [
    {
     "data": {
      "text/plain": [
       "[{'error': [],\n",
       "  'var': {'func': [{'state': 'input',\n",
       "     'type': 'int',\n",
       "     'name': 'a',\n",
       "     'coord': 'dep__src.c:5:14',\n",
       "     'value': [],\n",
       "     'ret': [{'coord': 'dep__src.c:10:9'},\n",
       "      {'coord': 'dep__src.c:12:9'},\n",
       "      {'coord': 'dep__src.c:12:16'}]}]}}]"
      ]
     },
     "execution_count": 48,
     "metadata": {},
     "output_type": "execute_result"
    }
   ],
   "source": [
    "syn_inf"
   ]
  },
  {
   "cell_type": "code",
   "execution_count": null,
   "metadata": {},
   "outputs": [],
   "source": [
    "add_dynamic_value(syn_inf,\"inst_result\")"
   ]
  },
  {
   "cell_type": "code",
   "execution_count": 45,
   "metadata": {},
   "outputs": [],
   "source": [
    "def clean_inf(syn_inf,i):\n",
    "    syn_inf[i][\"error\"]=[]\n",
    "    for v in syn_inf[i][\"var\"].values():\n",
    "        for var in v:\n",
    "            var[\"value\"]=[]\n",
    "    "
   ]
  },
  {
   "cell_type": "code",
   "execution_count": 47,
   "metadata": {},
   "outputs": [],
   "source": [
    "clean_inf(syn_inf,0)"
   ]
  },
  {
   "cell_type": "code",
   "execution_count": null,
   "metadata": {},
   "outputs": [],
   "source": [
    "syn_inf"
   ]
  },
  {
   "cell_type": "code",
   "execution_count": null,
   "metadata": {},
   "outputs": [],
   "source": []
  },
  {
   "cell_type": "code",
   "execution_count": null,
   "metadata": {},
   "outputs": [],
   "source": [
    "get_dynamic_value(\"inst_result\")"
   ]
  },
  {
   "cell_type": "code",
   "execution_count": 6,
   "metadata": {},
   "outputs": [],
   "source": [
    "def get_error_object(dep,func):\n",
    "    if dep[func][\"object\"][1]==dep[\"object\"][1]:\n",
    "        return dep[func][\"object\"]\n",
    "    else:\n",
    "        o = dep[\"object\"][0]\n",
    "        otype = dep[\"object\"][1]\n",
    "        line = dep[func][\"object\"][2]\n",
    "        if \"->\" in o:\n",
    "            namelist=o.split(\"->\")\n",
    "            if \".\" in namelist[0]:\n",
    "                name=dep[func][\"object\"][0]+\".\"+\".\".join(namelist[0].split(\".\")[1:])+\"->\"+\"->\".join(namelist[1:])\n",
    "            else:\n",
    "                name=dep[func][\"object\"][0]+\"->\"+\"->\".join(namelist[1:])\n",
    "        elif \".\" in o:\n",
    "            namelist=o.split(\".\")\n",
    "            name=dep[func][\"object\"][0]+\".\"+\".\".join(namelist[1:])\n",
    "        else:\n",
    "            return 0,0,0\n",
    "        return (name,otype,line)\n",
    "    "
   ]
  },
  {
   "cell_type": "code",
   "execution_count": 24,
   "metadata": {},
   "outputs": [
    {
     "data": {
      "text/plain": [
       "[{'func': {'dep': [{'name': 'a',\n",
       "     'state': 'input',\n",
       "     'type': 'int',\n",
       "     'coord': 'dep__src.c:5:14'},\n",
       "    {'name': 'b', 'state': 'var', 'type': 'int*', 'coord': 'dep__src.c:7:13'}],\n",
       "   'ret': [{'coord': 'dep__src.c:10:9'},\n",
       "    {'coord': 'dep__src.c:12:9'},\n",
       "    {'coord': 'dep__src.c:12:16'}],\n",
       "   'object': ('p', 'int*', 6)},\n",
       "  'error_object': ('p', 'int*', 6)}]"
      ]
     },
     "execution_count": 24,
     "metadata": {},
     "output_type": "execute_result"
    }
   ],
   "source": [
    "dep"
   ]
  },
  {
   "cell_type": "code",
   "execution_count": null,
   "metadata": {},
   "outputs": [],
   "source": [
    "data={\n",
    "        \"error\":[1,1,1,1,1,1,1,1,1,1],\n",
    "        \"var\":{\"func\":[\n",
    "            {\n",
    "                \"state\":\"input\",\n",
    "                \"type\":\"int\",\n",
    "                \"name\":\"a\",\n",
    "                \"coord\":2,\n",
    "                \"value\":[2,2,6,6,6,5,4,3,4,10],\n",
    "                \"ret\":[]\n",
    "            },\n",
    "            {\n",
    "                \"state\":\"input\",\n",
    "                \"type\":\"int\",\n",
    "                \"name\":\"b\",\n",
    "                \"coord\":2,\n",
    "                \"value\":[0,1,-2,-1,0,2,4,6,6,1],\n",
    "                \"ret\":[]\n",
    "            },\n",
    "            {\n",
    "                \"state\":\"var\",\n",
    "                \"type\":\"int\",\n",
    "                \"name\":\"c\",\n",
    "                \"coord\":6,\n",
    "                \"value\":[2,3,4,5,6,7,8,9,10,11],\n",
    "                \"ret\":[]\n",
    "            }\n",
    "        ]}\n",
    "    \n",
    "}"
   ]
  },
  {
   "cell_type": "code",
   "execution_count": 32,
   "metadata": {},
   "outputs": [
    {
     "data": {
      "text/plain": [
       "1"
      ]
     },
     "execution_count": 32,
     "metadata": {},
     "output_type": "execute_result"
    }
   ],
   "source": [
    "a=\"n\"\n",
    "len(a)"
   ]
  },
  {
   "cell_type": "code",
   "execution_count": 35,
   "metadata": {},
   "outputs": [],
   "source": [
    "f=open(\"instrumentation.json\",\"r\")\n",
    "a=json.load(f)"
   ]
  },
  {
   "cell_type": "code",
   "execution_count": 52,
   "metadata": {},
   "outputs": [
    {
     "data": {
      "text/plain": [
       "[None, None]"
      ]
     },
     "execution_count": 52,
     "metadata": {},
     "output_type": "execute_result"
    }
   ],
   "source": [
    "a=[None,None]\n",
    "a"
   ]
  },
  {
   "cell_type": "code",
   "execution_count": 53,
   "metadata": {},
   "outputs": [
    {
     "data": {
      "text/plain": [
       "'ab'"
      ]
     },
     "execution_count": 53,
     "metadata": {},
     "output_type": "execute_result"
    }
   ],
   "source": [
    "s=[\"a\",\"b\"]\n",
    "\"\".join(s)"
   ]
  },
  {
   "cell_type": "code",
   "execution_count": 55,
   "metadata": {},
   "outputs": [
    {
     "data": {
      "text/plain": [
       "True"
      ]
     },
     "execution_count": 55,
     "metadata": {},
     "output_type": "execute_result"
    }
   ],
   "source": [
    "\"1\".isdigit()"
   ]
  },
  {
   "cell_type": "code",
   "execution_count": null,
   "metadata": {},
   "outputs": [],
   "source": []
  }
 ],
 "metadata": {
  "kernelspec": {
   "display_name": "Python 3",
   "language": "python",
   "name": "python3"
  },
  "language_info": {
   "codemirror_mode": {
    "name": "ipython",
    "version": 3
   },
   "file_extension": ".py",
   "mimetype": "text/x-python",
   "name": "python",
   "nbconvert_exporter": "python",
   "pygments_lexer": "ipython3",
   "version": "3.7.3"
  }
 },
 "nbformat": 4,
 "nbformat_minor": 4
}

{
 "cells": [
  {
   "cell_type": "code",
   "execution_count": 4,
   "metadata": {},
   "outputs": [],
   "source": [
    "import os\n",
    "from my_tools import *\n",
    "from dependency import *\n",
    "from instrumentation import *\n",
    "from insert_patch import *\n"
   ]
  },
  {
   "cell_type": "code",
   "execution_count": null,
   "metadata": {},
   "outputs": [],
   "source": [
    "fuzz_cmd=[\n",
    "    r'gcc -fpreprocessed -dD -E src.c | sed \"/#/c\\ \" | sed \"1d\"',\n",
    "    r\"clang-12 -g -fsanitize=address,fuzzer src.c\",\n",
    "    r\"./a.out -max_total_time=5 -keep_seed=1 -max_len=2 2>fuzzer_result\"]\n",
    "\n"
   ]
  },
  {
   "cell_type": "code",
   "execution_count": null,
   "metadata": {},
   "outputs": [],
   "source": [
    "def main(filename):\n",
    "    os.system(f\"gcc -fpreprocessed -dD -E {filename} | sed \\\"1d\\\" > {filename}\")\n",
    "    os.system(f\"clang-12 -g -fsanitize=address,fuzzer {filename}\")\n",
    "    os.system(r\"./a.out -max_total_time=5 -keep_seed=1 -max_len=2 2>fuzzer_result\")\n",
    "    os.system(f\"cat preprocess_{filename} | sed \\\"/#/c\\ \\\" > dep_{filename} \")\n",
    "    \n",
    "    dep=get_dependency(fuzzer_result)\n",
    "    inst_filename=instrument(dep)\n",
    "    "
   ]
  },
  {
   "cell_type": "code",
   "execution_count": 3,
   "metadata": {},
   "outputs": [
    {
     "data": {
      "text/plain": [
       "1"
      ]
     },
     "execution_count": 3,
     "metadata": {},
     "output_type": "execute_result"
    }
   ],
   "source": [
    "os.system(\"ls\")"
   ]
  },
  {
   "cell_type": "code",
   "execution_count": 14,
   "metadata": {},
   "outputs": [
    {
     "data": {
      "text/plain": [
       "'gcc -fpreprocessed -dD -E aaa | sed \"/#/c\\\\ \" | sed \"1d\"'"
      ]
     },
     "execution_count": 14,
     "metadata": {},
     "output_type": "execute_result"
    }
   ],
   "source": [
    "filename=\"aaa\"\n",
    "\n",
    "f\"gcc -fpreprocessed -dD -E {filename} | sed \\\"/#/c\\ \\\" | sed \\\"1d\\\"\""
   ]
  },
  {
   "cell_type": "code",
   "execution_count": null,
   "metadata": {},
   "outputs": [],
   "source": []
  }
 ],
 "metadata": {
  "kernelspec": {
   "display_name": "Python 3",
   "language": "python",
   "name": "python3"
  },
  "language_info": {
   "codemirror_mode": {
    "name": "ipython",
    "version": 3
   },
   "file_extension": ".py",
   "mimetype": "text/x-python",
   "name": "python",
   "nbconvert_exporter": "python",
   "pygments_lexer": "ipython3",
   "version": "3.7.3"
  }
 },
 "nbformat": 4,
 "nbformat_minor": 4
}

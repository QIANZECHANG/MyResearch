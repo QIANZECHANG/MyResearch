{
 "cells": [
  {
   "cell_type": "code",
   "execution_count": 1,
   "metadata": {},
   "outputs": [],
   "source": [
    "import os\n",
    "from my_tools import *\n",
    "from dependency import *\n",
    "from instrumentation import *\n",
    "from insert_patch import *\n",
    "from program_synthesis import *\n",
    "from get_heap_object import *\n",
    "import argparse"
   ]
  },
  {
   "cell_type": "code",
   "execution_count": null,
   "metadata": {},
   "outputs": [],
   "source": [
    "parser = argparse.ArgumentParser(description='file name')\n",
    "parser.add_argument('f',type=str, help='file name')\n",
    "args = parser.parse_args()\n",
    "filename=args.f"
   ]
  },
  {
   "cell_type": "code",
   "execution_count": null,
   "metadata": {},
   "outputs": [],
   "source": [
    "fuzz_cmd=[\n",
    "    r'gcc -fpreprocessed -dD -E src.c | sed \"/#/c\\ \" | sed \"1d\"',\n",
    "    r\"clang-12 -g -fsanitize=address,fuzzer src.c\",\n",
    "    r\"./a.out -max_total_time=5 -keep_seed=1 -max_len=2 2>fuzzer_result\"]\n",
    "\n"
   ]
  },
  {
   "cell_type": "code",
   "execution_count": null,
   "metadata": {},
   "outputs": [],
   "source": [
    "def main(filename):\n",
    "    os.system(f\"gcc -fpreprocessed -dD -E {filename} | sed \\\"1d\\\" > {filename}\")\n",
    "    os.system(f\"clang-12 -g -fsanitize=address,fuzzer {filename}\")\n",
    "    os.system(r\"./a.out -max_total_time=5 -keep_seed=1 -max_len=2 2>fuzzer_result\")\n",
    "    os.system(f\"cat {filename} | sed \\\"/#/c\\ \\\" > dep_{filename} \")\n",
    "    \n",
    "    dep,error_feature = get_dependency(\"fuzzer_result\")\n",
    "    inst_filename = instrument(dep)\n",
    "    \n",
    "    os.system(f\"clang-12 -g -fsanitize=address,fuzzer {inst_filename}\")\n",
    "    os.system(r\"./a.out -max_total_time=5 -keep_seed=1 -max_len=2 2>inst_result\")\n",
    "    \n",
    "    syn_inf = get_synthesis_inf(dep,\"inst_result\")\n",
    "    # run 100 times to get more dynamic value\n",
    "    for i in range(100):\n",
    "        os.system(r\"./a.out -max_total_time=5 -keep_seed=1 -max_len=2 2>inst_result\")\n",
    "        add_dynamic_value(syn_inf,\"inst_result\")\n",
    "    \n",
    "    # def a func\n",
    "    for err_inf,err_dep,err_fea in zip(syn_inf,dep,error_feature):\n",
    "        patch_cand = synthesis().synthesis(err)\n",
    "        filelist = read_file(filename)\n",
    "        filelist,patch = insert_tmp_var(filelist,patch_cand)\n",
    "        for k,v in patch.items():\n",
    "            #TODO\n",
    "            o,otype,line=get_error_object(err_dep,k,v)\n",
    "            if o == 0:\n",
    "                continue\n",
    "            filelist,o=insert_heap_object(filelist,o,otype,line)\n",
    "            free=cur_patch(patch,o)\n",
    "            for ret in v[\"ret\"]:\n",
    "                patch_line=int(ret[\"coord\"].split(\":\")[1])\n",
    "                filelist=insert_patch(filelist,patch_line,free)\n",
    "                write_file(\"fixed_\"+filename,filelist)\n",
    "                os.system(f\"clang-12 -g -fsanitize=address,fuzzer fixed_{filename}\")\n",
    "                os.system(r\"./a.out -max_total_time=5 -keep_seed=1 -max_len=2 2>cur_fuzzer_result\")\n",
    "                cur_err=get_error_feature(get_fuzzer_result(\"cur_fuzzer_result\"))\n",
    "                if error_feature == cur_err:\n",
    "                    #repair a part\n",
    "                for err in cur_err:\n",
    "                    if err not in error_featur:\n",
    "                        #new error\n",
    "                if err_fea not in cur _err:\n",
    "                    #repaired\n",
    "                        "
   ]
  },
  {
   "cell_type": "code",
   "execution_count": null,
   "metadata": {},
   "outputs": [],
   "source": [
    "file=open(\"inst_result\",'r')\n",
    "inf=file.read()\n",
    "for i in inf.split(\"\\n\"):\n",
    "    if \"instrument:\" in i :\n",
    "        print(i)"
   ]
  },
  {
   "cell_type": "code",
   "execution_count": null,
   "metadata": {},
   "outputs": [],
   "source": [
    "{'func': {'patch': 'tmp_a==5',\n",
    "   'ret': [{'coord': 'dep__src.c:12:9'}, {'coord': 'dep__src.c:12:16'}]}}"
   ]
  },
  {
   "cell_type": "code",
   "execution_count": 4,
   "metadata": {},
   "outputs": [],
   "source": [
    "syn_inf=get_synthesis_inf(dep,\"inst_result\")"
   ]
  },
  {
   "cell_type": "code",
   "execution_count": 5,
   "metadata": {},
   "outputs": [
    {
     "data": {
      "text/plain": [
       "[{'error': [0, 1],\n",
       "  'var': {'func': [{'state': 'input',\n",
       "     'type': 'int',\n",
       "     'name': 'a',\n",
       "     'coord': 'dep__src.c:5:14',\n",
       "     'value': [0, 5],\n",
       "     'ret': [{'coord': 'dep__src.c:10:9'},\n",
       "      {'coord': 'dep__src.c:12:9'},\n",
       "      {'coord': 'dep__src.c:12:16'}]}]}}]"
      ]
     },
     "execution_count": 5,
     "metadata": {},
     "output_type": "execute_result"
    }
   ],
   "source": [
    "syn_inf"
   ]
  },
  {
   "cell_type": "code",
   "execution_count": null,
   "metadata": {},
   "outputs": [],
   "source": [
    "add_dynamic_value(syn_inf,\"inst_result\")"
   ]
  },
  {
   "cell_type": "code",
   "execution_count": null,
   "metadata": {},
   "outputs": [],
   "source": [
    "syn_inf"
   ]
  },
  {
   "cell_type": "code",
   "execution_count": null,
   "metadata": {},
   "outputs": [],
   "source": []
  },
  {
   "cell_type": "code",
   "execution_count": null,
   "metadata": {},
   "outputs": [],
   "source": [
    "get_dynamic_value(\"inst_result\")"
   ]
  },
  {
   "cell_type": "code",
   "execution_count": 6,
   "metadata": {},
   "outputs": [],
   "source": [
    "def get_error_object(dep,func):\n",
    "    if dep[func][\"object\"][1]==dep[\"object\"][1]:\n",
    "        return dep[func][\"object\"]\n",
    "    else:\n",
    "        o = dep[\"object\"][0]\n",
    "        otype = dep[\"object\"][1]\n",
    "        line = dep[func][\"object\"][2]\n",
    "        if \"->\" in o:\n",
    "            namelist=o.split(\"->\")\n",
    "            if \".\" in namelist[0]:\n",
    "                name=dep[func][\"object\"][0]+\".\"+\".\".join(namelist[0].split(\".\")[1:])+\"->\"+\"->\".join(namelist[1:])\n",
    "            else:\n",
    "                name=dep[func][\"object\"][0]+\"->\"+\"->\".join(namelist[1:])\n",
    "        elif \".\" in o:\n",
    "            namelist=o.split(\".\")\n",
    "            name=dep[func][\"object\"][0]+\".\"+\".\".join(namelist[1:])\n",
    "        else:\n",
    "            return 0,0,0\n",
    "        return (name,otype,line)\n",
    "    "
   ]
  },
  {
   "cell_type": "code",
   "execution_count": 2,
   "metadata": {},
   "outputs": [],
   "source": [
    "dep = get_dependency(\"fuzzer_result\")"
   ]
  },
  {
   "cell_type": "code",
   "execution_count": 3,
   "metadata": {},
   "outputs": [
    {
     "data": {
      "text/plain": [
       "[{'func': {'dep': [{'name': 'a',\n",
       "     'state': 'input',\n",
       "     'type': 'int',\n",
       "     'coord': 'dep__src.c:5:14'},\n",
       "    {'name': 'b', 'state': 'var', 'type': 'int*', 'coord': 'dep__src.c:7:13'}],\n",
       "   'ret': [{'coord': 'dep__src.c:10:9'},\n",
       "    {'coord': 'dep__src.c:12:9'},\n",
       "    {'coord': 'dep__src.c:12:16'}],\n",
       "   'object': ('p', 'int*', 6)},\n",
       "  'error_object': ('p', 'int*', 6)}]"
      ]
     },
     "execution_count": 3,
     "metadata": {},
     "output_type": "execute_result"
    }
   ],
   "source": [
    "dep"
   ]
  },
  {
   "cell_type": "code",
   "execution_count": null,
   "metadata": {},
   "outputs": [],
   "source": [
    "data={\n",
    "        \"error\":[1,1,1,1,1,1,1,1,1,1],\n",
    "        \"var\":{\"func\":[\n",
    "            {\n",
    "                \"state\":\"input\",\n",
    "                \"type\":\"int\",\n",
    "                \"name\":\"a\",\n",
    "                \"coord\":2,\n",
    "                \"value\":[2,2,6,6,6,5,4,3,4,10],\n",
    "                \"ret\":[]\n",
    "            },\n",
    "            {\n",
    "                \"state\":\"input\",\n",
    "                \"type\":\"int\",\n",
    "                \"name\":\"b\",\n",
    "                \"coord\":2,\n",
    "                \"value\":[0,1,-2,-1,0,2,4,6,6,1],\n",
    "                \"ret\":[]\n",
    "            },\n",
    "            {\n",
    "                \"state\":\"var\",\n",
    "                \"type\":\"int\",\n",
    "                \"name\":\"c\",\n",
    "                \"coord\":6,\n",
    "                \"value\":[2,3,4,5,6,7,8,9,10,11],\n",
    "                \"ret\":[]\n",
    "            }\n",
    "        ]}\n",
    "    \n",
    "}"
   ]
  },
  {
   "cell_type": "code",
   "execution_count": null,
   "metadata": {},
   "outputs": [],
   "source": []
  },
  {
   "cell_type": "code",
   "execution_count": null,
   "metadata": {},
   "outputs": [],
   "source": []
  }
 ],
 "metadata": {
  "kernelspec": {
   "display_name": "Python 3",
   "language": "python",
   "name": "python3"
  },
  "language_info": {
   "codemirror_mode": {
    "name": "ipython",
    "version": 3
   },
   "file_extension": ".py",
   "mimetype": "text/x-python",
   "name": "python",
   "nbconvert_exporter": "python",
   "pygments_lexer": "ipython3",
   "version": "3.7.3"
  }
 },
 "nbformat": 4,
 "nbformat_minor": 4
}

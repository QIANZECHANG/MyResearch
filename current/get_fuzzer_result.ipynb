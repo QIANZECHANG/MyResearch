{
 "cells": [
  {
   "cell_type": "code",
   "execution_count": 1,
   "metadata": {},
   "outputs": [],
   "source": [
    "from copy import deepcopy"
   ]
  },
  {
   "cell_type": "code",
   "execution_count": 7,
   "metadata": {},
   "outputs": [],
   "source": [
    "def get_fuzzer_result(filename):\n",
    "    file=open(filename,'r')\n",
    "    fuzzer_inf=file.read()\n",
    "    leak=[]\n",
    "    for inf in fuzzer_inf.split(\"\\n\\n\"):\n",
    "        if ((\"Direct leak\" in inf) or (\"Indirect leak\" in inf)):\n",
    "            leak.append(inf.split(\"\\n\"))\n",
    "    path=[]\n",
    "    for l in leak:\n",
    "        data={}\n",
    "        for i in range(1,len(l)):\n",
    "            if(\"LLVMFuzzerTestOneInput\" in l[i]):\n",
    "                break\n",
    "            cur=deepcopy(data)\n",
    "            ele=l[i].split()\n",
    "            \n",
    "            data[\"coord\"]=ele[4].split(\"/\")[-1]\n",
    "            data[\"funcname\"]=ele[3]\n",
    "            data[\"next\"]=cur\n",
    "\n",
    "        if data not in path:\n",
    "            path.append(data)\n",
    "    file.close()\n",
    "    return path"
   ]
  },
  {
   "cell_type": "code",
   "execution_count": 8,
   "metadata": {},
   "outputs": [
    {
     "data": {
      "text/plain": [
       "[{'coord': 'src.c:33:15',\n",
       "  'funcname': 'p11_constant_reverse',\n",
       "  'next': {'coord': 'src.c:18:12',\n",
       "   'funcname': 'p11_dict_new',\n",
       "   'next': {'coord': 'a.out+0x52204d)', 'funcname': 'malloc', 'next': {}}}},\n",
       " {'coord': 'src.c:33:15',\n",
       "  'funcname': 'p11_constant_reverse',\n",
       "  'next': {'coord': 'src.c:20:40',\n",
       "   'funcname': 'p11_dict_new',\n",
       "   'next': {'coord': 'a.out+0x52204d)', 'funcname': 'malloc', 'next': {}}}}]"
      ]
     },
     "execution_count": 8,
     "metadata": {},
     "output_type": "execute_result"
    }
   ],
   "source": [
    "get_fuzzer_result(\"fuzzing_result\")"
   ]
  },
  {
   "cell_type": "code",
   "execution_count": null,
   "metadata": {},
   "outputs": [],
   "source": []
  },
  {
   "cell_type": "code",
   "execution_count": null,
   "metadata": {},
   "outputs": [],
   "source": []
  }
 ],
 "metadata": {
  "kernelspec": {
   "display_name": "Python 3",
   "language": "python",
   "name": "python3"
  },
  "language_info": {
   "codemirror_mode": {
    "name": "ipython",
    "version": 3
   },
   "file_extension": ".py",
   "mimetype": "text/x-python",
   "name": "python",
   "nbconvert_exporter": "python",
   "pygments_lexer": "ipython3",
   "version": "3.7.3"
  }
 },
 "nbformat": 4,
 "nbformat_minor": 4
}

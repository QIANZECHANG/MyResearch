{
 "cells": [
  {
   "cell_type": "code",
   "execution_count": 4,
   "metadata": {},
   "outputs": [],
   "source": [
    "from dependency import *\n",
    "from my_tools import *"
   ]
  },
  {
   "cell_type": "code",
   "execution_count": 5,
   "metadata": {},
   "outputs": [],
   "source": [
    "dep=get_dependency(\"fuzzing_result\")"
   ]
  },
  {
   "cell_type": "code",
   "execution_count": 6,
   "metadata": {},
   "outputs": [
    {
     "data": {
      "text/plain": [
       "[{'p11_constant_reverse': {'dep': [{'name': 'nick',\n",
       "     'state': 'input',\n",
       "     'type': 'int',\n",
       "     'coord': 'infer.c:35:27'}],\n",
       "   'ret': [{'coord': 'infer.c:40:9'}, {'coord': 'infer.c:42:9'}]},\n",
       "  'p11_dict_new': {'dep': [],\n",
       "   'ret': [{'coord': 'infer.c:17:13'}, {'coord': 'infer.c:20:5'}]}},\n",
       " {'p11_constant_reverse': {'dep': [{'name': 'nick',\n",
       "     'state': 'input',\n",
       "     'type': 'int',\n",
       "     'coord': 'infer.c:35:27'}],\n",
       "   'ret': [{'coord': 'infer.c:40:9'}, {'coord': 'infer.c:42:9'}]},\n",
       "  'p11_dict_new': {'dep': [],\n",
       "   'ret': [{'coord': 'infer.c:17:13'}, {'coord': 'infer.c:20:5'}]}}]"
      ]
     },
     "execution_count": 6,
     "metadata": {},
     "output_type": "execute_result"
    }
   ],
   "source": [
    "dep"
   ]
  },
  {
   "cell_type": "code",
   "execution_count": 7,
   "metadata": {},
   "outputs": [],
   "source": [
    "def read_file(filename):\n",
    "    f=open(filename,\"r\")\n",
    "    filelist=f.readlines()\n",
    "    f.close()\n",
    "    return filelist"
   ]
  },
  {
   "cell_type": "code",
   "execution_count": 8,
   "metadata": {},
   "outputs": [],
   "source": [
    "def write_file(filename,code):\n",
    "    f=open(filename,\"w\")\n",
    "    f.write(\"\".join(code))\n",
    "    f.close()"
   ]
  },
  {
   "cell_type": "code",
   "execution_count": 4,
   "metadata": {},
   "outputs": [],
   "source": [
    "#TODO instrument filelist\n",
    "def instrument(dep):\n",
    "    instrument_dict={}\n",
    "    for e in dep:\n",
    "        for func in e.values():\n",
    "            if type(func)!=dict:\n",
    "                continue\n",
    "            for var in func[\"dep\"]:\n",
    "                filename=var[\"coord\"].split(\":\")[0]\n",
    "                filename=filename[4:]\n",
    "                if filename not in instrument_dict:\n",
    "                    instrument_dict[filename]=[]\n",
    "                if var not in instrument_dict[filename]:\n",
    "                    instrument_dict[filename].append(var)\n",
    "    \n",
    "    for filename in instrument_dict.keys():\n",
    "        filelist=read_file(filename)\n",
    "        for var in instrument_dict[filename]:\n",
    "            varname=var[\"name\"]\n",
    "            state=var[\"state\"]\n",
    "            vartype=var[\"type\"]\n",
    "            line=int(var[\"coord\"].split(\":\")[1])\n",
    "            if \"int\" not in vartype:\n",
    "                continue\n",
    "            deref=\"\"\n",
    "            for l in vartype:\n",
    "                if l==\"*\":\n",
    "                    deref+=\"*\"\n",
    "            printf=f\"fprintf(stderr,\\\"instrument: (line : {line}) {varname} : %d\\\\n\\\",{deref+varname});\\n\"\n",
    "            if state==\"var\":\n",
    "                filelist[line-1]=filelist[line-1][:-1]+printf\n",
    "            elif state==\"input\":\n",
    "                tmp=line-1\n",
    "                while \"{\" not in filelist[tmp]:\n",
    "                    tmp+=1\n",
    "                filelist[tmp]=filelist[tmp][:-1]+printf\n",
    "                \n",
    "        write_file(\"instrumented_\"+filename,filelist)\n",
    "    return \"instrumented_\"+filename"
   ]
  },
  {
   "cell_type": "code",
   "execution_count": 5,
   "metadata": {},
   "outputs": [],
   "source": [
    "def new_instrument(filelist,dep,name):\n",
    "    instrument_dict={}\n",
    "    for e in dep:\n",
    "        for func in e.values():\n",
    "            if type(func)!=dict:\n",
    "                continue\n",
    "            for var in func[\"dep\"]:\n",
    "                filename=var[\"coord\"].split(\":\")[0]\n",
    "                filename=filename[4:]\n",
    "                if filename not in instrument_dict:\n",
    "                    instrument_dict[filename]=[]\n",
    "                if var not in instrument_dict[filename]:\n",
    "                    instrument_dict[filename].append(var)\n",
    "    for filename in instrument_dict.keys():\n",
    "        #filelist=read_file(filename)\n",
    "        for var in instrument_dict[filename]:\n",
    "            varname=var[\"name\"]\n",
    "            state=var[\"state\"]\n",
    "            vartype=var[\"type\"]\n",
    "            line=int(var[\"coord\"].split(\":\")[1])\n",
    "            if \"int\" not in vartype:\n",
    "                continue\n",
    "            deref=\"\"\n",
    "            for l in vartype:\n",
    "                if l==\"*\":\n",
    "                    deref+=\"*\"\n",
    "            printf=f\"fprintf(stderr,\\\"instrument: (line : {line}) {varname} : %d\\\\n\\\",{deref+varname});\\n\"\n",
    "            if state==\"var\":\n",
    "                filelist[line-1]=filelist[line-1][:-1]+printf\n",
    "            elif state==\"input\":\n",
    "                tmp=line-1\n",
    "                while \"{\" not in filelist[tmp]:\n",
    "                    tmp+=1\n",
    "                filelist[tmp]=filelist[tmp][:-1]+printf\n",
    "                \n",
    "        write_file(name,filelist)\n",
    "    "
   ]
  },
  {
   "cell_type": "code",
   "execution_count": null,
   "metadata": {},
   "outputs": [],
   "source": []
  },
  {
   "cell_type": "code",
   "execution_count": 15,
   "metadata": {},
   "outputs": [
    {
     "data": {
      "text/plain": [
       "'instrumented_infer.c'"
      ]
     },
     "execution_count": 15,
     "metadata": {},
     "output_type": "execute_result"
    }
   ],
   "source": [
    "instrument(dep)"
   ]
  },
  {
   "cell_type": "code",
   "execution_count": 17,
   "metadata": {},
   "outputs": [],
   "source": [
    "deref=\"*\"\n",
    "varname=\"a\"\n",
    "printf=f\"printf(\\\"instrument: {deref+varname} : %d\\\\n\\\",{deref+varname})\""
   ]
  },
  {
   "cell_type": "code",
   "execution_count": 18,
   "metadata": {},
   "outputs": [
    {
     "name": "stdout",
     "output_type": "stream",
     "text": [
      "printf(\"instrument: *a: %d\\n\",*a)\n"
     ]
    }
   ],
   "source": [
    "print(printf)"
   ]
  },
  {
   "cell_type": "code",
   "execution_count": 6,
   "metadata": {},
   "outputs": [
    {
     "data": {
      "text/plain": [
       "'a'"
      ]
     },
     "execution_count": 6,
     "metadata": {},
     "output_type": "execute_result"
    }
   ],
   "source": [
    "filename=\"aa\"\n",
    "filename[-2]"
   ]
  },
  {
   "cell_type": "code",
   "execution_count": null,
   "metadata": {},
   "outputs": [],
   "source": [
    "a"
   ]
  }
 ],
 "metadata": {
  "kernelspec": {
   "display_name": "Python 3 (ipykernel)",
   "language": "python",
   "name": "python3"
  },
  "language_info": {
   "codemirror_mode": {
    "name": "ipython",
    "version": 3
   },
   "file_extension": ".py",
   "mimetype": "text/x-python",
   "name": "python",
   "nbconvert_exporter": "python",
   "pygments_lexer": "ipython3",
   "version": "3.9.7"
  }
 },
 "nbformat": 4,
 "nbformat_minor": 4
}

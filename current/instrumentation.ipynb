{
 "cells": [
  {
   "cell_type": "code",
   "execution_count": 4,
   "metadata": {},
   "outputs": [],
   "source": [
    "from dependency import *\n",
    "from my_tools import *"
   ]
  },
  {
   "cell_type": "code",
   "execution_count": 5,
   "metadata": {},
   "outputs": [],
   "source": [
    "dep=get_dependency(\"fuzzing_result\")"
   ]
  },
  {
   "cell_type": "code",
   "execution_count": 6,
   "metadata": {},
   "outputs": [
    {
     "data": {
      "text/plain": [
       "[{'p11_constant_reverse': {'dep': [{'name': 'nick',\n",
       "     'state': 'input',\n",
       "     'type': 'int',\n",
       "     'coord': 'infer.c:35:27'}],\n",
       "   'ret': [{'coord': 'infer.c:40:9'}, {'coord': 'infer.c:42:9'}]},\n",
       "  'p11_dict_new': {'dep': [],\n",
       "   'ret': [{'coord': 'infer.c:17:13'}, {'coord': 'infer.c:20:5'}]}},\n",
       " {'p11_constant_reverse': {'dep': [{'name': 'nick',\n",
       "     'state': 'input',\n",
       "     'type': 'int',\n",
       "     'coord': 'infer.c:35:27'}],\n",
       "   'ret': [{'coord': 'infer.c:40:9'}, {'coord': 'infer.c:42:9'}]},\n",
       "  'p11_dict_new': {'dep': [],\n",
       "   'ret': [{'coord': 'infer.c:17:13'}, {'coord': 'infer.c:20:5'}]}}]"
      ]
     },
     "execution_count": 6,
     "metadata": {},
     "output_type": "execute_result"
    }
   ],
   "source": [
    "dep"
   ]
  },
  {
   "cell_type": "code",
   "execution_count": 7,
   "metadata": {},
   "outputs": [],
   "source": [
    "def read_file(filename):\n",
    "    f=open(filename,\"r\")\n",
    "    filelist=f.readlines()\n",
    "    f.close()\n",
    "    return filelist"
   ]
  },
  {
   "cell_type": "code",
   "execution_count": 8,
   "metadata": {},
   "outputs": [],
   "source": [
    "def write_file(filename,code):\n",
    "    f=open(filename,\"w\")\n",
    "    f.write(\"\".join(code))\n",
    "    f.close()"
   ]
  },
  {
   "cell_type": "code",
   "execution_count": 9,
   "metadata": {},
   "outputs": [
    {
     "ename": "FileNotFoundError",
     "evalue": "[Errno 2] No such file or directory: 'test.c'",
     "output_type": "error",
     "traceback": [
      "\u001b[1;31m---------------------------------------------------------------------------\u001b[0m",
      "\u001b[1;31mFileNotFoundError\u001b[0m                         Traceback (most recent call last)",
      "\u001b[1;32m<ipython-input-9-7fe972386240>\u001b[0m in \u001b[0;36m<module>\u001b[1;34m\u001b[0m\n\u001b[1;32m----> 1\u001b[1;33m \u001b[0mwrite_file\u001b[0m\u001b[1;33m(\u001b[0m\u001b[1;34m\"instrument\"\u001b[0m\u001b[1;33m,\u001b[0m\u001b[0mread_file\u001b[0m\u001b[1;33m(\u001b[0m\u001b[1;34m\"test.c\"\u001b[0m\u001b[1;33m)\u001b[0m\u001b[1;33m)\u001b[0m\u001b[1;33m\u001b[0m\u001b[1;33m\u001b[0m\u001b[0m\n\u001b[0m",
      "\u001b[1;32m<ipython-input-7-1fee0181a8a6>\u001b[0m in \u001b[0;36mread_file\u001b[1;34m(filename)\u001b[0m\n\u001b[0;32m      1\u001b[0m \u001b[1;32mdef\u001b[0m \u001b[0mread_file\u001b[0m\u001b[1;33m(\u001b[0m\u001b[0mfilename\u001b[0m\u001b[1;33m)\u001b[0m\u001b[1;33m:\u001b[0m\u001b[1;33m\u001b[0m\u001b[1;33m\u001b[0m\u001b[0m\n\u001b[1;32m----> 2\u001b[1;33m     \u001b[0mf\u001b[0m\u001b[1;33m=\u001b[0m\u001b[0mopen\u001b[0m\u001b[1;33m(\u001b[0m\u001b[0mfilename\u001b[0m\u001b[1;33m,\u001b[0m\u001b[1;34m\"r\"\u001b[0m\u001b[1;33m)\u001b[0m\u001b[1;33m\u001b[0m\u001b[1;33m\u001b[0m\u001b[0m\n\u001b[0m\u001b[0;32m      3\u001b[0m     \u001b[0mfilelist\u001b[0m\u001b[1;33m=\u001b[0m\u001b[0mf\u001b[0m\u001b[1;33m.\u001b[0m\u001b[0mreadlines\u001b[0m\u001b[1;33m(\u001b[0m\u001b[1;33m)\u001b[0m\u001b[1;33m\u001b[0m\u001b[1;33m\u001b[0m\u001b[0m\n\u001b[0;32m      4\u001b[0m     \u001b[0mf\u001b[0m\u001b[1;33m.\u001b[0m\u001b[0mclose\u001b[0m\u001b[1;33m(\u001b[0m\u001b[1;33m)\u001b[0m\u001b[1;33m\u001b[0m\u001b[1;33m\u001b[0m\u001b[0m\n\u001b[0;32m      5\u001b[0m     \u001b[1;32mreturn\u001b[0m \u001b[0mfilelist\u001b[0m\u001b[1;33m\u001b[0m\u001b[1;33m\u001b[0m\u001b[0m\n",
      "\u001b[1;31mFileNotFoundError\u001b[0m: [Errno 2] No such file or directory: 'test.c'"
     ]
    }
   ],
   "source": [
    "write_file(\"instrument\",read_file(\"test.c\"))"
   ]
  },
  {
   "cell_type": "code",
   "execution_count": 14,
   "metadata": {},
   "outputs": [],
   "source": [
    "def instrument(dep):\n",
    "    instrument_dict={}\n",
    "    for e in dep:\n",
    "        for func in e.values():\n",
    "            for var in func[\"dep\"]:\n",
    "                filename=var[\"coord\"].split(\":\")[0]\n",
    "                if filename not in instrument_dict:\n",
    "                    instrument_dict[filename]=[]\n",
    "                if var not in instrument_dict[filename]:\n",
    "                    instrument_dict[filename].append(var)\n",
    "    \n",
    "    for filename in instrument_dict.keys():\n",
    "        filelist=read_file(filename)\n",
    "        for var in instrument_dict[filename]:\n",
    "            varname=var[\"name\"]\n",
    "            state=var[\"state\"]\n",
    "            vartype=var[\"type\"]\n",
    "            line=int(var[\"coord\"].split(\":\")[1])\n",
    "            if \"int\" not in vartype:\n",
    "                continue\n",
    "            deref=\"\"\n",
    "            for l in vartype:\n",
    "                if l==\"*\":\n",
    "                    deref+=\"*\"\n",
    "            printf=f\"fprintf(stderr,\\\"instrument: (line : {line}) {deref+varname} : %d\\\\n\\\",{deref+varname});\\n\"\n",
    "            if state==\"var\":\n",
    "                filelist[line-1]=filelist[line-1][:-1]+printf\n",
    "            elif state==\"input\":\n",
    "                tmp=line-1\n",
    "                while filelist[tmp][-2]!=\"{\":\n",
    "                    tmp+=1\n",
    "                filelist[tmp]=filelist[tmp][:-1]+printf\n",
    "                \n",
    "        write_file(\"instrumented_\"+filename,filelist)\n",
    "    return \"instrumented_\"+filename"
   ]
  },
  {
   "cell_type": "code",
   "execution_count": null,
   "metadata": {},
   "outputs": [],
   "source": []
  },
  {
   "cell_type": "code",
   "execution_count": 15,
   "metadata": {},
   "outputs": [
    {
     "data": {
      "text/plain": [
       "'instrumented_infer.c'"
      ]
     },
     "execution_count": 15,
     "metadata": {},
     "output_type": "execute_result"
    }
   ],
   "source": [
    "instrument(dep)"
   ]
  },
  {
   "cell_type": "code",
   "execution_count": 17,
   "metadata": {},
   "outputs": [],
   "source": [
    "deref=\"*\"\n",
    "varname=\"a\"\n",
    "printf=f\"printf(\\\"instrument: {deref+varname} : %d\\\\n\\\",{deref+varname})\""
   ]
  },
  {
   "cell_type": "code",
   "execution_count": 18,
   "metadata": {},
   "outputs": [
    {
     "name": "stdout",
     "output_type": "stream",
     "text": [
      "printf(\"instrument: *a: %d\\n\",*a)\n"
     ]
    }
   ],
   "source": [
    "print(printf)"
   ]
  },
  {
   "cell_type": "code",
   "execution_count": null,
   "metadata": {},
   "outputs": [],
   "source": []
  }
 ],
 "metadata": {
  "kernelspec": {
   "display_name": "Python 3",
   "language": "python",
   "name": "python3"
  },
  "language_info": {
   "codemirror_mode": {
    "name": "ipython",
    "version": 3
   },
   "file_extension": ".py",
   "mimetype": "text/x-python",
   "name": "python",
   "nbconvert_exporter": "python",
   "pygments_lexer": "ipython3",
   "version": "3.7.3"
  }
 },
 "nbformat": 4,
 "nbformat_minor": 4
}

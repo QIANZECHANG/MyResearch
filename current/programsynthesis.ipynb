{
 "cells": [
  {
   "cell_type": "code",
   "execution_count": 2,
   "metadata": {},
   "outputs": [],
   "source": [
    "from z3 import *\n",
    "from itertools import combinations as comb"
   ]
  },
  {
   "cell_type": "code",
   "execution_count": 38,
   "metadata": {},
   "outputs": [],
   "source": [
    "data={\n",
    "        \"error\":error[210:],\n",
    "        \"var\":{\"func\":[\n",
    "            {\n",
    "                \"state\":\"input\",\n",
    "                \"type\":\"int\",\n",
    "                \"name\":\"a\",\n",
    "                \"coord\":2,\n",
    "                \"value\":value[210:],\n",
    "                \"ret\":[]\n",
    "            }\n",
    "        ]}\n",
    "    \n",
    "}"
   ]
  },
  {
   "cell_type": "code",
   "execution_count": 40,
   "metadata": {},
   "outputs": [
    {
     "data": {
      "text/plain": [
       "{'func': {'op': '1',\n",
       "  'opr': [{'state': 'input',\n",
       "    'type': 'int',\n",
       "    'name': 'a',\n",
       "    'coord': 2,\n",
       "    'ret': []}]}}"
      ]
     },
     "execution_count": 40,
     "metadata": {},
     "output_type": "execute_result"
    }
   ],
   "source": [
    "synthesis().synthesis(data)"
   ]
  },
  {
   "cell_type": "code",
   "execution_count": 23,
   "metadata": {},
   "outputs": [],
   "source": [
    "data={'error': [0, 1],\n",
    "  'var': {'func': [{'state': 'input',\n",
    "     'type': 'int',\n",
    "     'name': 'a',\n",
    "     'coord': 'dep__src.c:5:14',\n",
    "     'value': [0, 5],\n",
    "     'ret': [{'coord': 'dep__src.c:10:9'},\n",
    "      {'coord': 'dep__src.c:12:9'},\n",
    "      {'coord': 'dep__src.c:12:16'}]}]}}"
   ]
  },
  {
   "cell_type": "code",
   "execution_count": 4,
   "metadata": {},
   "outputs": [],
   "source": [
    "class synthesis:\n",
    "    def __init__(self):\n",
    "        pass    \n",
    "    def tautology(self,a):\n",
    "        return True\n",
    "    '''\n",
    "    def var(self,a):  \n",
    "        return a!=0\n",
    "    def not_var(self,a):\n",
    "        return a==0\n",
    "    '''\n",
    "    def equ(self,a,c):\n",
    "        return a==c\n",
    "    def neq(self,a,c):\n",
    "        return a!=c\n",
    "    def leq(self,a,c):\n",
    "        return a<=c\n",
    "    def lss(self,a,c):\n",
    "        return a<c\n",
    "    def geq(self,a,c):\n",
    "        return a>=c\n",
    "    def gtr(self,a,c):    \n",
    "        return a>c\n",
    "\n",
    "        \n",
    "    def unary_op(self,error,var):\n",
    "        op={\n",
    "            \"1\":self.tautology\n",
    "        }\n",
    "        res={}\n",
    "        for name,spec in op.items():\n",
    "            for ele in var:\n",
    "                if len(ele[\"value\"])!=len(error):\n",
    "                    continue\n",
    "                s=Solver()\n",
    "                for i in range(len(error)):\n",
    "                    if error[i]:\n",
    "                        s.add(spec(ele[\"value\"][i]))\n",
    "                    else:\n",
    "                        s.add(Not(spec(ele[\"value\"][i])))\n",
    "                sat=s.check()\n",
    "                if sat==z3.z3.sat:\n",
    "                    res[\"op\"]=name\n",
    "                    res[\"opr\"]=[]\n",
    "                    res[\"opr\"].append({\n",
    "                        \"state\":ele[\"state\"],\n",
    "                        \"type\":ele[\"type\"],\n",
    "                        \"name\":ele[\"name\"],\n",
    "                        \"coord\":ele[\"coord\"],\n",
    "                        \"ret\":ele[\"ret\"]\n",
    "                    })\n",
    "                    return sat,res\n",
    "        return z3.z3.unsat,res\n",
    "                \n",
    "    def binary_op(self,error,var):\n",
    "        op={\n",
    "            \"==\":self.equ,\n",
    "            \"!=\":self.neq,\n",
    "            \"<=\":self.leq,\n",
    "            \"<\" :self.lss,\n",
    "            \">=\":self.geq,\n",
    "            \">\" :self.gtr,\n",
    "        }\n",
    "        res={}\n",
    "        #var op constant\n",
    "        for name,spec in op.items():\n",
    "            for ele in var:\n",
    "                if len(ele[\"value\"])!=len(error):\n",
    "                    continue\n",
    "                s=Solver()\n",
    "                cons=Int('constant')\n",
    "                for i in range(len(error)):\n",
    "                    if error[i]:\n",
    "                        s.add(spec(ele[\"value\"][i],cons))\n",
    "                    else:\n",
    "                        s.add(Not(spec(ele[\"value\"][i],cons)))\n",
    "                sat=s.check()\n",
    "                if sat==z3.z3.sat:\n",
    "                    res[\"op\"]=name\n",
    "                    res[\"opr\"]=[]\n",
    "                    res[\"opr\"].append({\n",
    "                        \"state\":ele[\"state\"],\n",
    "                        \"type\":ele[\"type\"],\n",
    "                        \"name\":ele[\"name\"],\n",
    "                        \"coord\":ele[\"coord\"],\n",
    "                        \"ret\":ele[\"ret\"]\n",
    "                    })\n",
    "                    res[\"opr\"].append({\n",
    "                        \"state\":\"element\",\n",
    "                        \"type\":\"int\",\n",
    "                        \"name\":\"_const\",\n",
    "                        \"coord\":None,\n",
    "                        \"const\":s.model()[cons],\n",
    "                        \"ret\":ele[\"ret\"]\n",
    "                    })\n",
    "                    return sat,res\n",
    "        #var op var\n",
    "        for name,spec in op.items():\n",
    "            var_comb=comb(var,2)\n",
    "            for ele1,ele2 in var_comb:\n",
    "                if len(ele1[\"value\"])!=len(error) or len(ele2[\"value\"])!=len(error):\n",
    "                    continue\n",
    "                s=Solver()\n",
    "                for i in range(len(error)):\n",
    "                    if error[i]:\n",
    "                        s.add(spec(ele1[\"value\"][i],ele2[\"value\"][i]))\n",
    "                    else:\n",
    "                        s.add(Not(spec(ele1[\"value\"][i],ele2[\"value\"][i])))\n",
    "                sat=s.check()\n",
    "                if sat==z3.z3.sat:\n",
    "                    res[\"op\"]=name\n",
    "                    res[\"opr\"]=[]\n",
    "                    res[\"opr\"].append({\n",
    "                        \"state\":ele1[\"state\"],\n",
    "                        \"type\":ele1[\"type\"],\n",
    "                        \"name\":ele1[\"name\"],\n",
    "                        \"coord\":ele1[\"coord\"],\n",
    "                        \"ret\":ele1[\"ret\"]\n",
    "                    })\n",
    "                    res[\"opr\"].append({\n",
    "                        \"state\":ele2[\"state\"],\n",
    "                        \"type\":ele2[\"type\"],\n",
    "                        \"name\":ele2[\"name\"],\n",
    "                        \"coord\":ele2[\"coord\"],\n",
    "                        \"ret\":ele2[\"ret\"]\n",
    "                    })\n",
    "                    return sat,res\n",
    "            \n",
    "            \n",
    "        return z3.z3.unsat,res\n",
    "\n",
    "    def triple_op(self,a,b,c):\n",
    "        pass\n",
    "    \n",
    "    def synthesis(self,data):\n",
    "        error=data[\"error\"]\n",
    "        out={}\n",
    "        for func,var in data[\"var\"].items():\n",
    "            out[func]=None\n",
    "            #unary operator\n",
    "            sat,res=self.unary_op(error,var)\n",
    "            if sat==z3.z3.sat:\n",
    "                out[func]=res\n",
    "                continue\n",
    "            #binary operator\n",
    "            sat,res=self.binary_op(error,var)\n",
    "            if sat==z3.z3.sat:\n",
    "                out[func]=res\n",
    "                continue\n",
    "        return out"
   ]
  },
  {
   "cell_type": "code",
   "execution_count": 5,
   "metadata": {},
   "outputs": [
    {
     "data": {
      "text/plain": [
       "{'func': None}"
      ]
     },
     "execution_count": 5,
     "metadata": {},
     "output_type": "execute_result"
    }
   ],
   "source": [
    "synthesis().synthesis(data)"
   ]
  },
  {
   "cell_type": "code",
   "execution_count": 45,
   "metadata": {},
   "outputs": [
    {
     "name": "stdout",
     "output_type": "stream",
     "text": [
      "sat\n",
      "[c = 100, l_x = 3, l_y = 1]\n"
     ]
    }
   ],
   "source": [
    "s=Solver()\n",
    "\n",
    "l_inhibit=0\n",
    "l_up=1\n",
    "l_down=2\n",
    "l_c=3\n",
    "l_x,l_y=Ints('l_x l_y')\n",
    "\n",
    "inhibit=[1,1,1]\n",
    "up=[0,11,-20]\n",
    "down=[100,110,60]\n",
    "c=Int('c')\n",
    "x=[]\n",
    "y=[]\n",
    "r=[]\n",
    "for i in range(3):\n",
    "    x.append(If(l_x==l_inhibit,inhibit[i],If(l_x==l_up,up[i],If(l_x==l_down,down[i],c))))\n",
    "    y.append(If(l_y==l_inhibit,inhibit[i],If(l_y==l_up,up[i],If(l_y==l_down,down[i],c))))\n",
    "    r.append(x[i]+y[i])\n",
    "\n",
    "s.add(l_x>=0,l_x<4,l_y>=0,l_y<4)\n",
    "s.add(r[0]<=100,r[1]>110,r[2]>60)\n",
    "print(s.check())\n",
    "print(s.model())"
   ]
  },
  {
   "cell_type": "code",
   "execution_count": 50,
   "metadata": {},
   "outputs": [
    {
     "data": {
      "text/html": [
       "100"
      ],
      "text/plain": [
       "100"
      ]
     },
     "execution_count": 50,
     "metadata": {},
     "output_type": "execute_result"
    }
   ],
   "source": [
    "s.model()[c]"
   ]
  },
  {
   "cell_type": "code",
   "execution_count": 29,
   "metadata": {},
   "outputs": [
    {
     "name": "stdout",
     "output_type": "stream",
     "text": [
      "sat\n",
      "[c = 6]\n"
     ]
    }
   ],
   "source": [
    "s=Solver()\n",
    "x=[4,5,6,8]\n",
    "c=Int('c')\n",
    "s.add(x[0]<c,x[1]<c,Not(x[2]<c),Not(x[3]<c))\n",
    "print(s.check())\n",
    "print(s.model())"
   ]
  },
  {
   "cell_type": "code",
   "execution_count": 5,
   "metadata": {},
   "outputs": [
    {
     "name": "stdout",
     "output_type": "stream",
     "text": [
      "unsat\n"
     ]
    }
   ],
   "source": [
    "s=Solver()\n",
    "x=[4,5,6,8]\n",
    "c=Int('c')\n",
    "s.add(x[0]==c,x[1]==c,Not(x[2]==c),Not(x[3]==c))\n",
    "print(s.check())"
   ]
  },
  {
   "cell_type": "code",
   "execution_count": 6,
   "metadata": {},
   "outputs": [
    {
     "data": {
      "text/plain": [
       "z3.z3.CheckSatResult"
      ]
     },
     "execution_count": 6,
     "metadata": {},
     "output_type": "execute_result"
    }
   ],
   "source": [
    "type(s.check())"
   ]
  },
  {
   "cell_type": "code",
   "execution_count": 9,
   "metadata": {},
   "outputs": [
    {
     "data": {
      "text/plain": [
       "True"
      ]
     },
     "execution_count": 9,
     "metadata": {},
     "output_type": "execute_result"
    }
   ],
   "source": [
    "s.check()==z3.z3.unsat"
   ]
  },
  {
   "cell_type": "code",
   "execution_count": 60,
   "metadata": {},
   "outputs": [],
   "source": [
    "s=Solver()\n",
    "c=Int(\"c\")\n",
    "s.add(True,True,False)"
   ]
  },
  {
   "cell_type": "code",
   "execution_count": 61,
   "metadata": {},
   "outputs": [
    {
     "data": {
      "text/html": [
       "<b>unsat</b>"
      ],
      "text/plain": [
       "unsat"
      ]
     },
     "execution_count": 61,
     "metadata": {},
     "output_type": "execute_result"
    }
   ],
   "source": [
    "s.check()"
   ]
  },
  {
   "cell_type": "code",
   "execution_count": 58,
   "metadata": {},
   "outputs": [
    {
     "data": {
      "text/html": [
       "[c = 3]"
      ],
      "text/plain": [
       "[c = 3]"
      ]
     },
     "execution_count": 58,
     "metadata": {},
     "output_type": "execute_result"
    }
   ],
   "source": [
    "s.model()"
   ]
  },
  {
   "cell_type": "code",
   "execution_count": 30,
   "metadata": {},
   "outputs": [
    {
     "data": {
      "text/html": [
       "<b>unsat</b>"
      ],
      "text/plain": [
       "unsat"
      ]
     },
     "execution_count": 30,
     "metadata": {},
     "output_type": "execute_result"
    }
   ],
   "source": [
    "z3.z3.unsat"
   ]
  },
  {
   "cell_type": "code",
   "execution_count": null,
   "metadata": {},
   "outputs": [],
   "source": []
  }
 ],
 "metadata": {
  "kernelspec": {
   "display_name": "Python 3 (ipykernel)",
   "language": "python",
   "name": "python3"
  },
  "language_info": {
   "codemirror_mode": {
    "name": "ipython",
    "version": 3
   },
   "file_extension": ".py",
   "mimetype": "text/x-python",
   "name": "python",
   "nbconvert_exporter": "python",
   "pygments_lexer": "ipython3",
   "version": "3.9.7"
  }
 },
 "nbformat": 4,
 "nbformat_minor": 4
}

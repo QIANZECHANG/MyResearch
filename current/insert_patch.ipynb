{
 "cells": [
  {
   "cell_type": "code",
   "execution_count": 36,
   "metadata": {},
   "outputs": [],
   "source": [
    "patch_dict={'op': '<=',\n",
    "  'opr': [{'state': 'input', 'type': 'int', 'name': 'nick', 'coord': \"infer.c:35:27\"},\n",
    "   {'state': 'element',\n",
    "    'type': 'int',\n",
    "    'name': '_const',\n",
    "    'coord': None,\n",
    "    'const': 5}]}"
   ]
  },
  {
   "cell_type": "code",
   "execution_count": 6,
   "metadata": {},
   "outputs": [],
   "source": [
    "from instrumentation import *\n"
   ]
  },
  {
   "cell_type": "code",
   "execution_count": 38,
   "metadata": {},
   "outputs": [
    {
     "data": {
      "text/plain": [
       "'\\npatch synthesis\\ninsert tmp var heapobject\\ninsert patch (return location)\\n\\n'"
      ]
     },
     "execution_count": 38,
     "metadata": {},
     "output_type": "execute_result"
    }
   ],
   "source": [
    "'''\n",
    "patch synthesis\n",
    "insert tmp var heapobject\n",
    "insert patch (return location)\n",
    "\n",
    "'''"
   ]
  },
  {
   "cell_type": "code",
   "execution_count": 20,
   "metadata": {},
   "outputs": [],
   "source": [
    "filelist=read_file(\"dep__src.c\")"
   ]
  },
  {
   "cell_type": "code",
   "execution_count": 24,
   "metadata": {},
   "outputs": [],
   "source": [
    "patch_cand={'func': {'op': '==',\n",
    "  'opr': [{'state': 'input',\n",
    "    'type': 'int',\n",
    "    'name': 'a',\n",
    "    'coord': 'dep__src.c:5:14',\n",
    "    'ret': [{'coord': 'dep__src.c:10:9'},\n",
    "     {'coord': 'dep__src.c:12:9'},\n",
    "     {'coord': 'dep__src.c:12:16'}]},\n",
    "   {'state': 'element',\n",
    "    'type': 'int',\n",
    "    'name': '_const',\n",
    "    'coord': None,\n",
    "    'const': 5}]}}"
   ]
  },
  {
   "cell_type": "code",
   "execution_count": 25,
   "metadata": {},
   "outputs": [],
   "source": [
    "def insert_tmp_var(filelist,patch_cand):\n",
    "    patch={}\n",
    "    for func,patch_dict in patch_cand.items():\n",
    "        cur_filelist=filelist.copy()\n",
    "        retloc=patch_dict[\"opr\"][0][\"ret\"]\n",
    "        patch[func]={\"patch\":None,\"ret\":retloc}\n",
    "        if patch_dict[\"op\"]==\"1\":\n",
    "            continue\n",
    "        patchlist=[]\n",
    "        for opr in patch_dict[\"opr\"]:\n",
    "            if opr[\"name\"]==\"_const\":\n",
    "                patchlist.append(str(opr[\"const\"]))\n",
    "            else:\n",
    "                line=int(opr[\"coord\"].split(\":\")[1])\n",
    "                state=opr[\"state\"]\n",
    "                insert_stat=f\"int tmp_{opr['name']} = {opr['name']};\\n\"\n",
    "                patchlist.append(\"tmp_\"+opr[\"name\"])\n",
    "                if state==\"var\":\n",
    "                    cur_filelist[line-1]=cur_filelist[line-1][:-1]+insert_stat\n",
    "                elif state==\"input\":\n",
    "                    tmp=line-1\n",
    "                    while len(cur_filelist[tmp])<2 or cur_filelist[tmp][-2]!=\"{\":\n",
    "                        tmp+=1\n",
    "                    cur_filelist[tmp]=cur_filelist[tmp][:-1]+insert_stat\n",
    "                for ret in opr[\"ret\"]:\n",
    "                    if ret in retloc and line>int(ret[\"coord\"].split(\":\")[1]):\n",
    "                        retloc.remove(ret)\n",
    "        patch[func][\"patch\"]=patchlist[0]+patch_dict[\"op\"]+patchlist[1]\n",
    "        patch[func][\"filelist\"]=cur_filelist\n",
    "    return patch\n",
    "            \n",
    "def insert_heap_object(filelist,o,otype,line):\n",
    "    insert_stat=f\"{otype} tmp_{o} = {o};\\n\"\n",
    "    filelist[line-1]=filelist[line-1][:-1]+insert_stat\n",
    "    return filelist,\"tmp_\"+o\n",
    "\n",
    "def cur_patch(patch,o):\n",
    "    if patch:\n",
    "        return f\"if({patch})free({o});\"\n",
    "    else: \n",
    "        return f\"free({o});\"\n",
    "    \n",
    "\n",
    "def insert_patch(filelist,line,patch):\n",
    "    num=0\n",
    "    for c in filelist[line-1]:\n",
    "        if c == \" \":\n",
    "            num+=1\n",
    "        else:\n",
    "            break\n",
    "    filelist[line-1]=filelist[line-1][:num]+patch+filelist[line-1][num:]\n",
    "    return filelist\n",
    "    "
   ]
  },
  {
   "cell_type": "code",
   "execution_count": 27,
   "metadata": {},
   "outputs": [
    {
     "data": {
      "text/plain": [
       "'     bbbasdf'"
      ]
     },
     "execution_count": 27,
     "metadata": {},
     "output_type": "execute_result"
    }
   ],
   "source": [
    "a=\"     asdf\"\n",
    "num=0\n",
    "for c in a:\n",
    "    if c == \" \":\n",
    "        num+=1\n",
    "b=a[:num]+\"bbb\"+a[num:]\n",
    "b"
   ]
  },
  {
   "cell_type": "code",
   "execution_count": 26,
   "metadata": {},
   "outputs": [
    {
     "data": {
      "text/plain": [
       "{'func': {'patch': 'tmp_a==5',\n",
       "  'ret': [{'coord': 'dep__src.c:10:9'},\n",
       "   {'coord': 'dep__src.c:12:9'},\n",
       "   {'coord': 'dep__src.c:12:16'}],\n",
       "  'filelist': [' \\n',\n",
       "   ' \\n',\n",
       "   ' \\n',\n",
       "   '\\n',\n",
       "   'int func(int a){int tmp_a = a;\\n',\n",
       "   '    int *p=malloc(4);\\n',\n",
       "   '    int *b=&a;\\n',\n",
       "   '    if(a<5){\\n',\n",
       "   '        free(p);\\n',\n",
       "   '        return 0;\\n',\n",
       "   '    }else{int tmp_a = a;\\n',\n",
       "   '        return 1;\\n',\n",
       "   '    }\\n',\n",
       "   '\\n',\n",
       "   '}\\n',\n",
       "   '\\n',\n",
       "   '\\n',\n",
       "   '\\n',\n",
       "   'int LLVMFuzzerTestOneInput(char *data, int size) {\\n',\n",
       "   '    int n=0;\\n',\n",
       "   '    for(int i=0;i<size;i++){\\n',\n",
       "   '        if(! isdigit(*(data+i)))return 0;\\n',\n",
       "   \"        n=n*10+ *(data+i)-'0';\\n\",\n",
       "   '    }\\n',\n",
       "   '    func(n);\\n',\n",
       "   '    return 0;\\n',\n",
       "   '}\\n']}}"
      ]
     },
     "execution_count": 26,
     "metadata": {},
     "output_type": "execute_result"
    }
   ],
   "source": [
    "insert_tmp_var(filelist,patch_cand)"
   ]
  },
  {
   "cell_type": "code",
   "execution_count": 9,
   "metadata": {},
   "outputs": [
    {
     "data": {
      "text/plain": [
       "['\\n',\n",
       " '\\n',\n",
       " '\\n',\n",
       " '\\n',\n",
       " '\\n',\n",
       " 'typedef struct _p11_dict {\\n',\n",
       " '    struct p11_dictbucket **buckets;\\n',\n",
       " '}p11_dict;\\n',\n",
       " '\\n',\n",
       " 'typedef struct p11_dictbucket {\\n',\n",
       " '    struct p11_dictbucket *next;\\n',\n",
       " '} dictbucket;\\n',\n",
       " '\\n',\n",
       " 'p11_dict *\\n',\n",
       " 'p11_dict_new (){\\n',\n",
       " '    p11_dict *dict;\\n',\n",
       " '    dict = malloc (sizeof (p11_dict));\\n',\n",
       " '    if (dict) {\\n',\n",
       " '        dict->buckets = (dictbucket **)malloc (sizeof (dictbucket *));\\n',\n",
       " '        if (!dict->buckets) {\\n',\n",
       " '            free (dict);\\n',\n",
       " '            return NULL;\\n',\n",
       " '        }\\n',\n",
       " '    }\\n',\n",
       " '    return dict;\\n',\n",
       " '}\\n',\n",
       " '\\n',\n",
       " '\\n',\n",
       " 'p11_dict *\\n',\n",
       " 'func(int c){\\n',\n",
       " '    p11_dict *dict;\\n',\n",
       " '    dict =p11_dict_new();\\n',\n",
       " '    if(c==0){\\n',\n",
       " '        return NULL;\\n',\n",
       " '    }\\n',\n",
       " '    return dict;\\n',\n",
       " '}\\n',\n",
       " '\\n',\n",
       " 'p11_dict *\\n',\n",
       " 'p11_constant_reverse (int nick)\\n',\n",
       " '{\\n',\n",
       " '    p11_dict *lookups;\\n',\n",
       " '    lookups = p11_dict_new ();\\n',\n",
       " '    if (nick) {\\n',\n",
       " '        return NULL;\\n',\n",
       " '    } else {\\n',\n",
       " '        return lookups;\\n',\n",
       " '    }\\n',\n",
       " '}\\n',\n",
       " '\\n',\n",
       " 'void p11(int nick){\\n',\n",
       " '    p11_dict *dict;\\n',\n",
       " '    dict=p11_constant_reverse (nick);\\n',\n",
       " '    if(dict){\\n',\n",
       " '        free(dict->buckets);\\n',\n",
       " '        free(dict);\\n',\n",
       " '    }\\n',\n",
       " '}\\n']"
      ]
     },
     "execution_count": 9,
     "metadata": {},
     "output_type": "execute_result"
    }
   ],
   "source": [
    "filelist"
   ]
  },
  {
   "cell_type": "code",
   "execution_count": 59,
   "metadata": {},
   "outputs": [],
   "source": [
    "fl,pd=insert_tmp_var(filelist,patch_dict)"
   ]
  },
  {
   "cell_type": "code",
   "execution_count": 60,
   "metadata": {},
   "outputs": [
    {
     "data": {
      "text/plain": [
       "(['typedef struct _p11_dict {\\n',\n",
       "  '    struct p11_dictbucket **buckets;\\n',\n",
       "  '}p11_dict;\\n',\n",
       "  '\\n',\n",
       "  'typedef struct p11_dictbucket {\\n',\n",
       "  '    struct p11_dictbucket *next;\\n',\n",
       "  '} dictbucket;\\n',\n",
       "  '\\n',\n",
       "  'p11_dict *\\n',\n",
       "  'p11_dict_new (){\\n',\n",
       "  '    p11_dict *dict;**(*p)->a.b=b+c;\\n',\n",
       "  '    dict = malloc (sizeof (p11_dict));\\n',\n",
       "  '    if (dict) {\\n',\n",
       "  '        dict->buckets = (dictbucket **)malloc (sizeof (dictbucket *));\\n',\n",
       "  '        if (!dict->buckets) {\\n',\n",
       "  '            free (dict);\\n',\n",
       "  '            return NULL;\\n',\n",
       "  '        }\\n',\n",
       "  '    }\\n',\n",
       "  '    return dict;\\n',\n",
       "  '}\\n',\n",
       "  '\\n',\n",
       "  '\\n',\n",
       "  'p11_dict *\\n',\n",
       "  'func(int c){\\n',\n",
       "  '    p11_dict *dict;\\n',\n",
       "  '    dict =p11_dict_new();\\n',\n",
       "  '    if(c==0){\\n',\n",
       "  '        return NULL;\\n',\n",
       "  '    }\\n',\n",
       "  '    return dict;\\n',\n",
       "  '}\\n',\n",
       "  '\\n',\n",
       "  'p11_dict *\\n',\n",
       "  'p11_constant_reverse (int nick)\\n',\n",
       "  '{int tmp_nick = nick;\\n',\n",
       "  '    p11_dict *lookups;\\n',\n",
       "  '    lookups = p11_dict_new (); p11_dict * tmp_lookups = lookups;\\n',\n",
       "  '    if (nick) {\\n',\n",
       "  '        return NULL;\\n',\n",
       "  '    } else {\\n',\n",
       "  '        return lookups;\\n',\n",
       "  '    }\\n',\n",
       "  '}\\n',\n",
       "  '\\n',\n",
       "  'void p11(int nick){\\n',\n",
       "  '    p11_dict *dict;\\n',\n",
       "  '    dict=p11_constant_reverse (nick);\\n',\n",
       "  '    if(dict){\\n',\n",
       "  '        free(dict->buckets);\\n',\n",
       "  '        free(dict);\\n',\n",
       "  '    }\\n',\n",
       "  '}\\n'],\n",
       " 'tmp_lookups')"
      ]
     },
     "execution_count": 60,
     "metadata": {},
     "output_type": "execute_result"
    }
   ],
   "source": [
    "insert_heap_object(fl,\"lookups\",\" p11_dict *\",38)"
   ]
  },
  {
   "cell_type": "code",
   "execution_count": 62,
   "metadata": {},
   "outputs": [],
   "source": [
    "patch=cur_patch(pd,\"lookups\")"
   ]
  },
  {
   "cell_type": "code",
   "execution_count": 63,
   "metadata": {},
   "outputs": [
    {
     "data": {
      "text/plain": [
       "['typedef struct _p11_dict {\\n',\n",
       " '    struct p11_dictbucket **buckets;\\n',\n",
       " '}p11_dict;\\n',\n",
       " '\\n',\n",
       " 'typedef struct p11_dictbucket {\\n',\n",
       " '    struct p11_dictbucket *next;\\n',\n",
       " '} dictbucket;\\n',\n",
       " '\\n',\n",
       " 'p11_dict *\\n',\n",
       " 'p11_dict_new (){\\n',\n",
       " '    p11_dict *dict;**(*p)->a.b=b+c;\\n',\n",
       " '    dict = malloc (sizeof (p11_dict));\\n',\n",
       " '    if (dict) {\\n',\n",
       " '        dict->buckets = (dictbucket **)malloc (sizeof (dictbucket *));\\n',\n",
       " '        if (!dict->buckets) {\\n',\n",
       " '            free (dict);\\n',\n",
       " '            return NULL;\\n',\n",
       " '        }\\n',\n",
       " '    }\\n',\n",
       " '    return dict;\\n',\n",
       " '}\\n',\n",
       " '\\n',\n",
       " '\\n',\n",
       " 'p11_dict *\\n',\n",
       " 'func(int c){\\n',\n",
       " '    p11_dict *dict;\\n',\n",
       " '    dict =p11_dict_new();\\n',\n",
       " '    if(c==0){\\n',\n",
       " '        return NULL;\\n',\n",
       " '    }\\n',\n",
       " '    return dict;\\n',\n",
       " '}\\n',\n",
       " '\\n',\n",
       " 'p11_dict *\\n',\n",
       " 'p11_constant_reverse (int nick)\\n',\n",
       " '{int tmp_nick = nick;\\n',\n",
       " '    p11_dict *lookups;\\n',\n",
       " '    lookups = p11_dict_new (); p11_dict * tmp_lookups = lookups;\\n',\n",
       " '    if (nick) {\\n',\n",
       " 'if(tmp_nick<=5)free(lookups);        return NULL;\\n',\n",
       " '    } else {\\n',\n",
       " '        return lookups;\\n',\n",
       " '    }\\n',\n",
       " '}\\n',\n",
       " '\\n',\n",
       " 'void p11(int nick){\\n',\n",
       " '    p11_dict *dict;\\n',\n",
       " '    dict=p11_constant_reverse (nick);\\n',\n",
       " '    if(dict){\\n',\n",
       " '        free(dict->buckets);\\n',\n",
       " '        free(dict);\\n',\n",
       " '    }\\n',\n",
       " '}\\n']"
      ]
     },
     "execution_count": 63,
     "metadata": {},
     "output_type": "execute_result"
    }
   ],
   "source": [
    "insert_patch(filelist,40,patch)"
   ]
  },
  {
   "cell_type": "code",
   "execution_count": null,
   "metadata": {},
   "outputs": [],
   "source": []
  }
 ],
 "metadata": {
  "kernelspec": {
   "display_name": "Python 3",
   "language": "python",
   "name": "python3"
  },
  "language_info": {
   "codemirror_mode": {
    "name": "ipython",
    "version": 3
   },
   "file_extension": ".py",
   "mimetype": "text/x-python",
   "name": "python",
   "nbconvert_exporter": "python",
   "pygments_lexer": "ipython3",
   "version": "3.7.3"
  }
 },
 "nbformat": 4,
 "nbformat_minor": 4
}

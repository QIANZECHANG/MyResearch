{
 "cells": [
  {
   "cell_type": "code",
   "execution_count": 36,
   "metadata": {},
   "outputs": [],
   "source": [
    "patch_dict={'op': '<=',\n",
    "  'opr': [{'state': 'input', 'type': 'int', 'name': 'nick', 'coord': \"infer.c:35:27\"},\n",
    "   {'state': 'element',\n",
    "    'type': 'int',\n",
    "    'name': '_const',\n",
    "    'coord': None,\n",
    "    'const': 5}]}"
   ]
  },
  {
   "cell_type": "code",
   "execution_count": 37,
   "metadata": {},
   "outputs": [],
   "source": [
    "from instrumentation import *\n"
   ]
  },
  {
   "cell_type": "code",
   "execution_count": 38,
   "metadata": {},
   "outputs": [
    {
     "data": {
      "text/plain": [
       "'\\npatch synthesis\\ninsert tmp var heapobject\\ninsert patch (return location)\\n\\n'"
      ]
     },
     "execution_count": 38,
     "metadata": {},
     "output_type": "execute_result"
    }
   ],
   "source": [
    "'''\n",
    "patch synthesis\n",
    "insert tmp var heapobject\n",
    "insert patch (return location)\n",
    "\n",
    "'''"
   ]
  },
  {
   "cell_type": "code",
   "execution_count": 58,
   "metadata": {},
   "outputs": [],
   "source": [
    "filelist=read_file(\"infer.c\")"
   ]
  },
  {
   "cell_type": "code",
   "execution_count": 46,
   "metadata": {},
   "outputs": [],
   "source": [
    "def insert_tmp_var(filelist,patch_dict):\n",
    "    if patch_dict[\"opr\"]==\"1\":\n",
    "        return filelist,None\n",
    "    patchlist=[]\n",
    "    for opr in patch_dict[\"opr\"]:\n",
    "        if opr[\"name\"]==\"_const\":\n",
    "            patchlist.append(str(opr[\"const\"]))\n",
    "        else:\n",
    "            line=int(opr[\"coord\"].split(\":\")[1])\n",
    "            state=opr[\"state\"]\n",
    "            insert_stat=f\"int tmp_{opr['name']} = {opr['name']};\\n\"\n",
    "            patchlist.append(\"tmp_\"+opr[\"name\"])\n",
    "            if state==\"var\":\n",
    "                filelist[line-1]=filelist[line-1][:-1]+insert_stat\n",
    "            elif state==\"input\":\n",
    "                tmp=line-1\n",
    "                while filelist[tmp][-2]!=\"{\":\n",
    "                    tmp+=1\n",
    "                filelist[tmp]=filelist[tmp][:-1]+insert_stat\n",
    "    \n",
    "    return filelist,patchlist[0]+patch_dict[\"op\"]+patchlist[1]\n",
    "            \n",
    "def insert_heap_object(filelist,o,otype,line):\n",
    "    insert_stat=f\"{otype} tmp_{o} = {o};\\n\"\n",
    "    filelist[line-1]=filelist[line-1][:-1]+insert_stat\n",
    "    return filelist,\"tmp_\"+o\n",
    "\n",
    "def cur_patch(patch,o):\n",
    "    if patch:\n",
    "        return f\"if({patch})free({o});\"\n",
    "    else: \n",
    "        return f\"free({o});\"\n",
    "    \n",
    "\n",
    "def insert_patch(filelist,line,patch):\n",
    "    filelist[line-1]=patch+filelist[line-1]\n",
    "    return filelist\n",
    "    "
   ]
  },
  {
   "cell_type": "code",
   "execution_count": 57,
   "metadata": {},
   "outputs": [
    {
     "data": {
      "text/plain": [
       "['typedef struct _p11_dict {\\n',\n",
       " '    struct p11_dictbucket **buckets;\\n',\n",
       " '}p11_dict;\\n',\n",
       " '\\n',\n",
       " 'typedef struct p11_dictbucket {\\n',\n",
       " '    struct p11_dictbucket *next;\\n',\n",
       " '} dictbucket;\\n',\n",
       " '\\n',\n",
       " 'p11_dict *\\n',\n",
       " 'p11_dict_new (){\\n',\n",
       " '    p11_dict *dict;**(*p)->a.b=b+c;\\n',\n",
       " '    dict = malloc (sizeof (p11_dict));\\n',\n",
       " '    if (dict) {\\n',\n",
       " '        dict->buckets = (dictbucket **)malloc (sizeof (dictbucket *));\\n',\n",
       " '        if (!dict->buckets) {\\n',\n",
       " '            free (dict);\\n',\n",
       " '            return NULL;\\n',\n",
       " '        }\\n',\n",
       " '    }\\n',\n",
       " '    return dict;\\n',\n",
       " '}\\n',\n",
       " '\\n',\n",
       " '\\n',\n",
       " 'p11_dict *\\n',\n",
       " 'func(int c){\\n',\n",
       " '    p11_dict *dict;\\n',\n",
       " '    dict =p11_dict_new();\\n',\n",
       " '    if(c==0){\\n',\n",
       " '        return NULL;\\n',\n",
       " '    }\\n',\n",
       " '    return dict;\\n',\n",
       " '}\\n',\n",
       " '\\n',\n",
       " 'p11_dict *\\n',\n",
       " 'p11_constant_reverse (int nick)\\n',\n",
       " '{int tmp_nick = nick;\\n',\n",
       " '    p11_dict *lookups;\\n',\n",
       " '    lookups = p11_dict_new ();\\n',\n",
       " '    if (nick) {\\n',\n",
       " '        return NULL; p11_dict * tmp_lookups = lookups;\\n',\n",
       " '    } else {\\n',\n",
       " '        return lookups;\\n',\n",
       " '    }\\n',\n",
       " '}\\n',\n",
       " '\\n',\n",
       " 'void p11(int nick){\\n',\n",
       " '    p11_dict *dict;\\n',\n",
       " '    dict=p11_constant_reverse (nick);\\n',\n",
       " '    if(dict){\\n',\n",
       " '        free(dict->buckets);\\n',\n",
       " '        free(dict);\\n',\n",
       " '    }\\n',\n",
       " '}\\n']"
      ]
     },
     "execution_count": 57,
     "metadata": {},
     "output_type": "execute_result"
    }
   ],
   "source": [
    "filelist"
   ]
  },
  {
   "cell_type": "code",
   "execution_count": 59,
   "metadata": {},
   "outputs": [],
   "source": [
    "fl,pd=insert_tmp_var(filelist,patch_dict)"
   ]
  },
  {
   "cell_type": "code",
   "execution_count": 60,
   "metadata": {},
   "outputs": [
    {
     "data": {
      "text/plain": [
       "(['typedef struct _p11_dict {\\n',\n",
       "  '    struct p11_dictbucket **buckets;\\n',\n",
       "  '}p11_dict;\\n',\n",
       "  '\\n',\n",
       "  'typedef struct p11_dictbucket {\\n',\n",
       "  '    struct p11_dictbucket *next;\\n',\n",
       "  '} dictbucket;\\n',\n",
       "  '\\n',\n",
       "  'p11_dict *\\n',\n",
       "  'p11_dict_new (){\\n',\n",
       "  '    p11_dict *dict;**(*p)->a.b=b+c;\\n',\n",
       "  '    dict = malloc (sizeof (p11_dict));\\n',\n",
       "  '    if (dict) {\\n',\n",
       "  '        dict->buckets = (dictbucket **)malloc (sizeof (dictbucket *));\\n',\n",
       "  '        if (!dict->buckets) {\\n',\n",
       "  '            free (dict);\\n',\n",
       "  '            return NULL;\\n',\n",
       "  '        }\\n',\n",
       "  '    }\\n',\n",
       "  '    return dict;\\n',\n",
       "  '}\\n',\n",
       "  '\\n',\n",
       "  '\\n',\n",
       "  'p11_dict *\\n',\n",
       "  'func(int c){\\n',\n",
       "  '    p11_dict *dict;\\n',\n",
       "  '    dict =p11_dict_new();\\n',\n",
       "  '    if(c==0){\\n',\n",
       "  '        return NULL;\\n',\n",
       "  '    }\\n',\n",
       "  '    return dict;\\n',\n",
       "  '}\\n',\n",
       "  '\\n',\n",
       "  'p11_dict *\\n',\n",
       "  'p11_constant_reverse (int nick)\\n',\n",
       "  '{int tmp_nick = nick;\\n',\n",
       "  '    p11_dict *lookups;\\n',\n",
       "  '    lookups = p11_dict_new (); p11_dict * tmp_lookups = lookups;\\n',\n",
       "  '    if (nick) {\\n',\n",
       "  '        return NULL;\\n',\n",
       "  '    } else {\\n',\n",
       "  '        return lookups;\\n',\n",
       "  '    }\\n',\n",
       "  '}\\n',\n",
       "  '\\n',\n",
       "  'void p11(int nick){\\n',\n",
       "  '    p11_dict *dict;\\n',\n",
       "  '    dict=p11_constant_reverse (nick);\\n',\n",
       "  '    if(dict){\\n',\n",
       "  '        free(dict->buckets);\\n',\n",
       "  '        free(dict);\\n',\n",
       "  '    }\\n',\n",
       "  '}\\n'],\n",
       " 'tmp_lookups')"
      ]
     },
     "execution_count": 60,
     "metadata": {},
     "output_type": "execute_result"
    }
   ],
   "source": [
    "insert_heap_object(fl,\"lookups\",\" p11_dict *\",38)"
   ]
  },
  {
   "cell_type": "code",
   "execution_count": 62,
   "metadata": {},
   "outputs": [],
   "source": [
    "patch=cur_patch(pd,\"lookups\")"
   ]
  },
  {
   "cell_type": "code",
   "execution_count": 63,
   "metadata": {},
   "outputs": [
    {
     "data": {
      "text/plain": [
       "['typedef struct _p11_dict {\\n',\n",
       " '    struct p11_dictbucket **buckets;\\n',\n",
       " '}p11_dict;\\n',\n",
       " '\\n',\n",
       " 'typedef struct p11_dictbucket {\\n',\n",
       " '    struct p11_dictbucket *next;\\n',\n",
       " '} dictbucket;\\n',\n",
       " '\\n',\n",
       " 'p11_dict *\\n',\n",
       " 'p11_dict_new (){\\n',\n",
       " '    p11_dict *dict;**(*p)->a.b=b+c;\\n',\n",
       " '    dict = malloc (sizeof (p11_dict));\\n',\n",
       " '    if (dict) {\\n',\n",
       " '        dict->buckets = (dictbucket **)malloc (sizeof (dictbucket *));\\n',\n",
       " '        if (!dict->buckets) {\\n',\n",
       " '            free (dict);\\n',\n",
       " '            return NULL;\\n',\n",
       " '        }\\n',\n",
       " '    }\\n',\n",
       " '    return dict;\\n',\n",
       " '}\\n',\n",
       " '\\n',\n",
       " '\\n',\n",
       " 'p11_dict *\\n',\n",
       " 'func(int c){\\n',\n",
       " '    p11_dict *dict;\\n',\n",
       " '    dict =p11_dict_new();\\n',\n",
       " '    if(c==0){\\n',\n",
       " '        return NULL;\\n',\n",
       " '    }\\n',\n",
       " '    return dict;\\n',\n",
       " '}\\n',\n",
       " '\\n',\n",
       " 'p11_dict *\\n',\n",
       " 'p11_constant_reverse (int nick)\\n',\n",
       " '{int tmp_nick = nick;\\n',\n",
       " '    p11_dict *lookups;\\n',\n",
       " '    lookups = p11_dict_new (); p11_dict * tmp_lookups = lookups;\\n',\n",
       " '    if (nick) {\\n',\n",
       " 'if(tmp_nick<=5)free(lookups);        return NULL;\\n',\n",
       " '    } else {\\n',\n",
       " '        return lookups;\\n',\n",
       " '    }\\n',\n",
       " '}\\n',\n",
       " '\\n',\n",
       " 'void p11(int nick){\\n',\n",
       " '    p11_dict *dict;\\n',\n",
       " '    dict=p11_constant_reverse (nick);\\n',\n",
       " '    if(dict){\\n',\n",
       " '        free(dict->buckets);\\n',\n",
       " '        free(dict);\\n',\n",
       " '    }\\n',\n",
       " '}\\n']"
      ]
     },
     "execution_count": 63,
     "metadata": {},
     "output_type": "execute_result"
    }
   ],
   "source": [
    "insert_patch(filelist,40,patch)"
   ]
  },
  {
   "cell_type": "code",
   "execution_count": null,
   "metadata": {},
   "outputs": [],
   "source": []
  }
 ],
 "metadata": {
  "kernelspec": {
   "display_name": "Python 3",
   "language": "python",
   "name": "python3"
  },
  "language_info": {
   "codemirror_mode": {
    "name": "ipython",
    "version": 3
   },
   "file_extension": ".py",
   "mimetype": "text/x-python",
   "name": "python",
   "nbconvert_exporter": "python",
   "pygments_lexer": "ipython3",
   "version": "3.7.3"
  }
 },
 "nbformat": 4,
 "nbformat_minor": 4
}
